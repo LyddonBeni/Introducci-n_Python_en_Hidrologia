{
 "cells": [
  {
   "cell_type": "markdown",
   "metadata": {},
   "source": [
    "# Condicionales y Bucles"
   ]
  },
  {
   "cell_type": "markdown",
   "metadata": {},
   "source": [
    "## Condicional If"
   ]
  },
  {
   "cell_type": "code",
   "execution_count": 8,
   "metadata": {},
   "outputs": [
    {
     "name": "stdout",
     "output_type": "stream",
     "text": [
      "alto es mayor a el ancho\n"
     ]
    }
   ],
   "source": [
    "ancho = 4\n",
    "alto = 5\n",
    "if alto < ancho:\n",
    "    print(\"alto es menor a el ancho\")\n",
    "elif ancho == alto:\n",
    "    print(\"magnitudes iguales\")\n",
    "else: \n",
    "    print(\"alto es mayor a el ancho\")"
   ]
  },
  {
   "cell_type": "code",
   "execution_count": 4,
   "metadata": {},
   "outputs": [
    {
     "name": "stdout",
     "output_type": "stream",
     "text": [
      "Escoge un entero: 10\n",
      "Escoge otro entero: 20\n",
      "El segundo numero es mayor que el primero\n"
     ]
    }
   ],
   "source": [
    "num_1 = int(input('Escoge un entero: '))\n",
    "num_2 = int(input('Escoge otro entero: '))\n",
    "\n",
    "if num_1 > num_2:\n",
    "    print('El primer numero es mayor que el segundo')\n",
    "elif num_1 < num_2:\n",
    "    print('El segundo numero es mayor que el primero')\n",
    "else:\n",
    "    print('Los dos numeros son iguales')"
   ]
  },
  {
   "cell_type": "markdown",
   "metadata": {},
   "source": [
    "## Bucle For"
   ]
  },
  {
   "cell_type": "markdown",
   "metadata": {},
   "source": [
    "Los bucles, en diversos lenguajes de programación pueden ser: \n",
    "* <b>Definidos</b> <br>\n",
    "Los bucles definidos preestablecen las condiciones de la iteración por adelantado.<br>\n",
    "<br>\n",
    "* <b>Indefinidos</b> <br>\n",
    "Los bucles indefinidos establecen la condición en la que una iteración terminará.<br>\n",
    "En este último tipo de bucles existe el riesgo de que el bucle se vuelva infinito <br>\n",
    "`cuando la condición de suspensión nunca se cumple`"
   ]
  },
  {
   "cell_type": "code",
   "execution_count": 31,
   "metadata": {},
   "outputs": [
    {
     "name": "stdout",
     "output_type": "stream",
     "text": [
      "5\n",
      "6\n",
      "7\n",
      "8\n",
      "9\n",
      "10\n"
     ]
    }
   ],
   "source": [
    "base=10\n",
    "for z in range(a,base+1):\n",
    "    print(z)"
   ]
  },
  {
   "cell_type": "code",
   "execution_count": 59,
   "metadata": {},
   "outputs": [
    {
     "name": "stdout",
     "output_type": "stream",
     "text": [
      "la suma del 1 numeros es 5\n",
      "la suma del 2 numeros es 11\n",
      "la suma del 3 numeros es 18\n",
      "la suma del 4 numeros es 26\n",
      "la suma del 5 numeros es 35\n",
      "la suma del 6 numeros es 45\n"
     ]
    }
   ],
   "source": [
    "n=0\n",
    "c=0\n",
    "b=10\n",
    "for x in range(a,b+1):\n",
    "    n=n+x\n",
    "    c=c+1\n",
    "    print(\"la suma del \"+ str(c)+\" numeros es \"+ str(n))\n"
   ]
  },
  {
   "cell_type": "code",
   "execution_count": 19,
   "metadata": {},
   "outputs": [
    {
     "data": {
      "text/plain": [
       "<str_iterator at 0x268c72252c8>"
      ]
     },
     "execution_count": 19,
     "metadata": {},
     "output_type": "execute_result"
    }
   ],
   "source": [
    "iter('cadena')"
   ]
  },
  {
   "cell_type": "code",
   "execution_count": 20,
   "metadata": {},
   "outputs": [
    {
     "data": {
      "text/plain": [
       "<list_iterator at 0x268c7231208>"
      ]
     },
     "execution_count": 20,
     "metadata": {},
     "output_type": "execute_result"
    }
   ],
   "source": [
    " iter(['a', 'b', 'c'])"
   ]
  },
  {
   "cell_type": "code",
   "execution_count": 26,
   "metadata": {},
   "outputs": [
    {
     "data": {
      "text/plain": [
       "'mango'"
      ]
     },
     "execution_count": 26,
     "metadata": {},
     "output_type": "execute_result"
    }
   ],
   "source": [
    "frutas = ['manzana', 'pera', 'mango']\n",
    "iterador = iter(frutas)\n",
    "next(iterador)\n",
    "next(iterador)\n",
    "next(iterador)"
   ]
  },
  {
   "cell_type": "code",
   "execution_count": null,
   "metadata": {},
   "outputs": [],
   "source": []
  },
  {
   "cell_type": "code",
   "execution_count": null,
   "metadata": {},
   "outputs": [],
   "source": []
  },
  {
   "cell_type": "code",
   "execution_count": null,
   "metadata": {},
   "outputs": [],
   "source": []
  },
  {
   "cell_type": "code",
   "execution_count": null,
   "metadata": {},
   "outputs": [],
   "source": []
  },
  {
   "cell_type": "code",
   "execution_count": null,
   "metadata": {},
   "outputs": [],
   "source": []
  },
  {
   "cell_type": "code",
   "execution_count": null,
   "metadata": {},
   "outputs": [],
   "source": []
  },
  {
   "cell_type": "markdown",
   "metadata": {},
   "source": [
    "## Bucle While"
   ]
  },
  {
   "cell_type": "code",
   "execution_count": 14,
   "metadata": {},
   "outputs": [
    {
     "name": "stdout",
     "output_type": "stream",
     "text": [
      "1\n",
      "3\n",
      "5\n",
      "7\n"
     ]
    }
   ],
   "source": [
    "contador = 0\n",
    "\n",
    "while contador < 7:\n",
    "    print(contador + 1)\n",
    "    contador +=  2   # esto es igual a decir \"contador = contador + 2\""
   ]
  },
  {
   "cell_type": "code",
   "execution_count": 57,
   "metadata": {},
   "outputs": [
    {
     "name": "stdout",
     "output_type": "stream",
     "text": [
      "la suma de los primeros 1 numeros es: 1\n",
      "la suma de los primeros 2 numeros es: 3\n",
      "la suma de los primeros 3 numeros es: 6\n",
      "la suma de los primeros 4 numeros es: 10\n",
      "la suma de los primeros 5 numeros es: 15\n",
      "la suma de los primeros 6 numeros es: 21\n",
      "la suma de los primeros 7 numeros es: 28\n",
      "la suma de los primeros 8 numeros es: 36\n",
      "la suma de los primeros 9 numeros es: 45\n",
      "la suma de los primeros 10 numeros es: 55\n"
     ]
    }
   ],
   "source": [
    "contador = 0\n",
    "b = 0\n",
    "while c<10:\n",
    "    c=c+1\n",
    "    b=b+c\n",
    "    print(\"la suma de los primeros \"+str(c)+ \" numeros es: \"+ str(b))"
   ]
  },
  {
   "cell_type": "code",
   "execution_count": 18,
   "metadata": {},
   "outputs": [
    {
     "name": "stdout",
     "output_type": "stream",
     "text": [
      "0 0\n",
      "1 0\n",
      "2 0\n",
      "3 0\n",
      "4 0\n"
     ]
    }
   ],
   "source": [
    "contador_externo = 0\n",
    "contador_interno = 0\n",
    "\n",
    "while contador_externo < 5:\n",
    "    while contador_interno < 6:\n",
    "        print(contador_externo, contador_interno)\n",
    "        contador_interno += 1\n",
    "\n",
    "        if contador_interno >= 1:\n",
    "            break\n",
    "\n",
    "    contador_externo += 1\n",
    "    contador_interno = 0"
   ]
  }
 ],
 "metadata": {
  "kernelspec": {
   "display_name": "Python 3",
   "language": "python",
   "name": "python3"
  },
  "language_info": {
   "codemirror_mode": {
    "name": "ipython",
    "version": 3
   },
   "file_extension": ".py",
   "mimetype": "text/x-python",
   "name": "python",
   "nbconvert_exporter": "python",
   "pygments_lexer": "ipython3",
   "version": "3.7.6"
  }
 },
 "nbformat": 4,
 "nbformat_minor": 2
}
