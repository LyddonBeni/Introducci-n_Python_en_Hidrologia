{
 "cells": [
  {
   "cell_type": "markdown",
   "metadata": {},
   "source": [
    "# Estructuras de Control"
   ]
  },
  {
   "cell_type": "markdown",
   "metadata": {},
   "source": [
    "## Condicionales"
   ]
  },
  {
   "cell_type": "markdown",
   "metadata": {},
   "source": [
    "### Condicional If"
   ]
  },
  {
   "cell_type": "markdown",
   "metadata": {},
   "source": [
    "Una sentencia `if`:\n",
    "* Es ejecutada si su condicion se evalua como `True` \n",
    "* Nunca es ejecutada si se evalua como `False`"
   ]
  },
  {
   "cell_type": "code",
   "execution_count": 1,
   "metadata": {},
   "outputs": [],
   "source": [
    "ancho = 4\n",
    "alto = 5\n",
    "if alto < ancho:\n",
    "    print(\"alto es menor a el ancho\")\n",
    "else: \n",
    "    print(\"alto es mayor a el ancho\")"
   ]
  },
  {
   "cell_type": "markdown",
   "metadata": {},
   "source": [
    "Si queremos añadir ramas al condicional `if`\n",
    "* Podemos emplear la sentencia elif (abreviatura de else if). \n",
    "* Para la parte final, que debe ejecutarse si ninguna de las condiciones anteriores se ha cumplido, usamos la sentencia else"
   ]
  },
  {
   "cell_type": "code",
   "execution_count": 2,
   "metadata": {},
   "outputs": [
    {
     "name": "stdout",
     "output_type": "stream",
     "text": [
      "Escoge un entero: 5\n",
      "Escoge otro entero: 10\n",
      "El segundo numero es mayor que el primero\n"
     ]
    }
   ],
   "source": [
    "num_1 = int(input('Escoge un entero: '))\n",
    "num_2 = int(input('Escoge otro entero: '))\n",
    "\n",
    "if num_1 > num_2:\n",
    "    print('El primer numero es mayor que el segundo')\n",
    "elif num_1 < num_2:\n",
    "    print('El segundo numero es mayor que el primero')\n",
    "else:\n",
    "    print('Los dos numeros son iguales')"
   ]
  },
  {
   "cell_type": "markdown",
   "metadata": {},
   "source": [
    "<b> Importante: </b>\n",
    "> En Python los bloques se delimitan consangria, utilizando siempre cuatro espacios.<br>\n",
    "Si no seguimos esto Python nos dará errores; es una forma de forzar a que el código sea legible."
   ]
  },
  {
   "cell_type": "markdown",
   "metadata": {},
   "source": [
    "## Bucles"
   ]
  },
  {
   "cell_type": "markdown",
   "metadata": {},
   "source": [
    "Los bucles, en diversos lenguajes de programación pueden ser: \n",
    "* <b>Definidos - BUCLE FOR</b> <br>\n",
    "Los bucles definidos preestablecen las condiciones de la iteración por adelantado.<br>\n",
    "<br>\n",
    "* <b>Indefinidos - BUCLE WHILE</b> <br>\n",
    "Los bucles indefinidos establecen la condición en la que una iteración terminará.<br>\n",
    "En este último tipo de bucles existe el riesgo de que el bucle se vuelva infinito <br>\n",
    "`cuando la condición de suspensión nunca se cumple`"
   ]
  },
  {
   "cell_type": "markdown",
   "metadata": {},
   "source": [
    "### Bucle While"
   ]
  },
  {
   "cell_type": "markdown",
   "metadata": {},
   "source": [
    "Una sentencia `if`:\n",
    "* Es ejecutada si su condicion se evalua como `True` \n",
    "* Nunca es ejecutada si se evalua como `False`\n",
    "La sentencia `While` \n",
    "* Se ejecuta del mismo modo que `If`\n",
    "* Se ejecuta repetidas veces mientras la condicion se mantenga."
   ]
  },
  {
   "cell_type": "code",
   "execution_count": 3,
   "metadata": {},
   "outputs": [
    {
     "name": "stdout",
     "output_type": "stream",
     "text": [
      "0\n",
      "2\n",
      "4\n",
      "6\n"
     ]
    }
   ],
   "source": [
    "contador = 0\n",
    "\n",
    "while contador <= 7:\n",
    "    print(contador)\n",
    "    contador +=  2   # esto es igual a decir \"contador = contador + 2\""
   ]
  },
  {
   "cell_type": "code",
   "execution_count": 4,
   "metadata": {},
   "outputs": [
    {
     "name": "stdout",
     "output_type": "stream",
     "text": [
      "la suma de los primeros 1 numeros es: 1\n",
      "la suma de los primeros 2 numeros es: 3\n",
      "la suma de los primeros 3 numeros es: 6\n",
      "la suma de los primeros 4 numeros es: 10\n",
      "la suma de los primeros 5 numeros es: 15\n",
      "la suma de los primeros 6 numeros es: 21\n",
      "la suma de los primeros 7 numeros es: 28\n",
      "la suma de los primeros 8 numeros es: 36\n",
      "la suma de los primeros 9 numeros es: 45\n",
      "la suma de los primeros 10 numeros es: 55\n"
     ]
    }
   ],
   "source": [
    "contador = 0\n",
    "suma = 0\n",
    "while contador < 10:\n",
    "    contador += 1\n",
    "    suma = suma + contador\n",
    "    print(\"la suma de los primeros \"+ str(contador) + \" numeros es: \"+ str(suma))"
   ]
  },
  {
   "cell_type": "markdown",
   "metadata": {},
   "source": [
    "### Bucle For"
   ]
  },
  {
   "cell_type": "markdown",
   "metadata": {},
   "source": [
    "#### Iterables"
   ]
  },
  {
   "cell_type": "markdown",
   "metadata": {},
   "source": [
    "Para enteder el bucle `for` definiremos  los `Iterables` <br>\n",
    "En Python, un iterable es un objeto que se puede utilizar en un bucle definido.\n",
    "* Si un objeto es iterable significa que se puede pasar como argumento a la función `iter`\n",
    "* El iterable que se pasa como parámetro a la función `iter` regresa un `iterator`"
   ]
  },
  {
   "cell_type": "code",
   "execution_count": 5,
   "metadata": {},
   "outputs": [
    {
     "name": "stdout",
     "output_type": "stream",
     "text": [
      "<str_iterator object at 0x00000147BCFAD9C8>\n",
      "<list_iterator object at 0x00000147BCFAD988>\n",
      "<tuple_iterator object at 0x00000147BCFABCC8>\n",
      "<set_iterator object at 0x00000147BCFB36D8>\n",
      "<dict_keyiterator object at 0x00000147BCF695E8>\n"
     ]
    }
   ],
   "source": [
    "print(iter('cadena')) # cadena\n",
    "print(iter(['a', 'b', 'c'])) # lista\n",
    "print(iter(('a', 'b', 'c'))) # tupla\n",
    "print(iter({'a', 'b', 'c'})) # conjunto\n",
    "print(iter({'a': 1, 'b': 2, 'c': 3})) # diccionario"
   ]
  },
  {
   "cell_type": "markdown",
   "metadata": {},
   "source": [
    "#### Iterators"
   ]
  },
  {
   "cell_type": "markdown",
   "metadata": {},
   "source": [
    "Ahora que ya sabemos cómo obtener un `iterator`<br>\n",
    "<b>¿Qué podemos hacer con él?</b> <br>\n",
    "* Un `iterator` es un objeto que regresa sucesivamente los valores asociados con el iterable.<br>\n",
    "* El `iterator` guarda el estado interno de la iteración, de tal manera que cada llamada sucesiva a `next` regresa el siguiente elemento<br>\n",
    "<b>¿Qué pasa una vez que ya no existan más elementos en el iterable?</b> <br>\n",
    "* La llamada a next arrojará un error de tipo StopIteration."
   ]
  },
  {
   "cell_type": "code",
   "execution_count": 6,
   "metadata": {},
   "outputs": [
    {
     "name": "stdout",
     "output_type": "stream",
     "text": [
      "manzana\n",
      "pera\n",
      "mango\n"
     ]
    },
    {
     "ename": "StopIteration",
     "evalue": "",
     "output_type": "error",
     "traceback": [
      "\u001b[1;31m---------------------------------------------------------------------------\u001b[0m",
      "\u001b[1;31mStopIteration\u001b[0m                             Traceback (most recent call last)",
      "\u001b[1;32m<ipython-input-6-16ee7cc6017c>\u001b[0m in \u001b[0;36m<module>\u001b[1;34m\u001b[0m\n\u001b[0;32m      4\u001b[0m \u001b[0mprint\u001b[0m \u001b[1;33m(\u001b[0m\u001b[0mnext\u001b[0m\u001b[1;33m(\u001b[0m\u001b[0miterador\u001b[0m\u001b[1;33m)\u001b[0m\u001b[1;33m)\u001b[0m\u001b[1;33m\u001b[0m\u001b[1;33m\u001b[0m\u001b[0m\n\u001b[0;32m      5\u001b[0m \u001b[0mprint\u001b[0m \u001b[1;33m(\u001b[0m\u001b[0mnext\u001b[0m\u001b[1;33m(\u001b[0m\u001b[0miterador\u001b[0m\u001b[1;33m)\u001b[0m\u001b[1;33m)\u001b[0m\u001b[1;33m\u001b[0m\u001b[1;33m\u001b[0m\u001b[0m\n\u001b[1;32m----> 6\u001b[1;33m \u001b[0mprint\u001b[0m \u001b[1;33m(\u001b[0m\u001b[0mnext\u001b[0m\u001b[1;33m(\u001b[0m\u001b[0miterador\u001b[0m\u001b[1;33m)\u001b[0m\u001b[1;33m)\u001b[0m\u001b[1;33m\u001b[0m\u001b[1;33m\u001b[0m\u001b[0m\n\u001b[0m",
      "\u001b[1;31mStopIteration\u001b[0m: "
     ]
    }
   ],
   "source": [
    "frutas = ['manzana', 'pera', 'mango']\n",
    "iterador = iter(frutas)\n",
    "print (next(iterador))\n",
    "print (next(iterador))\n",
    "print (next(iterador))\n",
    "print (next(iterador)) "
   ]
  },
  {
   "cell_type": "markdown",
   "metadata": {},
   "source": [
    "Python llama internamente la función iter para obtener un iterator.\n",
    "\n",
    "* Una vez que tiene un iterator llama repetidamente la función `next` para tener acceso al siguiente elemento en el bucle.\n",
    "* Detiene el bucle una vez que se arroja el error `StopIteration`"
   ]
  },
  {
   "cell_type": "code",
   "execution_count": null,
   "metadata": {},
   "outputs": [],
   "source": [
    "frutas = ['manzana', 'pera', 'mango']\n",
    "for valor in frutas:\n",
    "    print (valor)"
   ]
  },
  {
   "cell_type": "code",
   "execution_count": null,
   "metadata": {},
   "outputs": [],
   "source": [
    "inicio = 2\n",
    "fin = 5 \n",
    "for valor in range(inicio,fin):\n",
    "    print(valor)"
   ]
  },
  {
   "cell_type": "code",
   "execution_count": null,
   "metadata": {},
   "outputs": [],
   "source": [
    "suma = 0\n",
    "contador = 1\n",
    "valor_inicial = 1\n",
    "valor_final = 5\n",
    "\n",
    "for incremento in range( valor_inicial , valor_final + 1):\n",
    "    suma = suma + incremento\n",
    "    contador = contador + 1\n",
    "    print(\"la suma de los \"+ str(contador)+\" primeros numeros es \"+ str(suma))"
   ]
  },
  {
   "cell_type": "markdown",
   "metadata": {},
   "source": [
    "#### Bucles For con Diccionarios"
   ]
  },
  {
   "cell_type": "markdown",
   "metadata": {},
   "source": [
    "Para iterar a lo largo de un diccionario tenemos varias opciones:<br>\n",
    "\n",
    "* Ejecutar el bucle `for` directamente en el diccionario, lo cual nos permite <br>\n",
    "iterar a lo largo de las llaves del diccionario.\n",
    "* Ejecutar el bucle `for` en la llamada `keys` del diccionario, lo cual nos permite <br>\n",
    "iterar a lo largo de las llaves del diccionario.\n",
    "* Ejecutar el bucle `for` en la llamada `values` del diccionario, lo cual nos <br>\n",
    "permite iterar a lo largo de los valores del diccionario.\n",
    "* Ejecutar el bucle `for` en la llamada `items` del diccionario, lo cual nos <br>\n",
    "permite iterar en una tupla de las llaves y los valores del diccionario."
   ]
  },
  {
   "cell_type": "code",
   "execution_count": null,
   "metadata": {},
   "outputs": [],
   "source": [
    "estudiantes = {\n",
    "    'mexico': 10,\n",
    "    'colombia': 15,\n",
    "    'puerto_rico': 4,\n",
    "}\n",
    "\n",
    "for pais in estudiantes:\n",
    "    print(pais)\n",
    "print('================')\n",
    "\n",
    "for pais in estudiantes.keys():\n",
    "    print(pais)\n",
    "print('================')\n",
    "\n",
    "for numero_de_estudiantes in estudiantes.values():\n",
    "    print(numero_de_estudiantes)\n",
    "print('================')\n",
    "\n",
    "for pais, numero_de_estudiantes in estudiantes.items():\n",
    "    print(numero_de_estudiantes)"
   ]
  },
  {
   "cell_type": "markdown",
   "metadata": {},
   "source": [
    "### Break"
   ]
  },
  {
   "cell_type": "markdown",
   "metadata": {},
   "source": [
    "Para finalizar un bucle prematuramente\n",
    "* Cuando se encuentra dentro de un bucle, la instrucción `break` hace que el bucle termine de inmediato."
   ]
  },
  {
   "cell_type": "code",
   "execution_count": null,
   "metadata": {},
   "outputs": [],
   "source": [
    "contador = 0\n",
    "while 100==100:\n",
    "    print(contador)\n",
    "    contador  += 1 \n",
    "    if contador >= 3:\n",
    "        print('Bucle detenido')\n",
    "        break\n",
    "    "
   ]
  },
  {
   "cell_type": "code",
   "execution_count": null,
   "metadata": {},
   "outputs": [],
   "source": [
    "contador_externo = 0\n",
    "contador_interno = 0\n",
    "\n",
    "while contador_externo < 5:\n",
    "    while contador_interno < 6:\n",
    "        print(contador_externo, contador_interno)\n",
    "        contador_interno += 1\n",
    "\n",
    "        if contador_interno >= 2:\n",
    "            break\n",
    "\n",
    "    contador_externo += 1\n",
    "    contador_interno = 0"
   ]
  },
  {
   "cell_type": "markdown",
   "metadata": {},
   "source": [
    "### Continue"
   ]
  },
  {
   "cell_type": "markdown",
   "metadata": {},
   "source": [
    "Otra declaración que se puede usar dentro de los bucles es continuar .\n",
    "* A diferencia de `break` , continuar salta de nuevo a la parte superior del bucle, en lugar de detenerlo.\n",
    "* `continue` termina la iteración en curso y continua con el siguiente ciclo de iteración."
   ]
  },
  {
   "cell_type": "code",
   "execution_count": null,
   "metadata": {},
   "outputs": [],
   "source": [
    "contador = 0\n",
    "while True:\n",
    "    contador += 1\n",
    "    if contador == 2:\n",
    "        print (\"Valor no considerado\")\n",
    "        continue\n",
    "    if contador == 5:\n",
    "        print ('bucle detenido')\n",
    "        break\n",
    "    print(contador)"
   ]
  }
 ],
 "metadata": {
  "kernelspec": {
   "display_name": "Python 3",
   "language": "python",
   "name": "python3"
  },
  "language_info": {
   "codemirror_mode": {
    "name": "ipython",
    "version": 3
   },
   "file_extension": ".py",
   "mimetype": "text/x-python",
   "name": "python",
   "nbconvert_exporter": "python",
   "pygments_lexer": "ipython3",
   "version": "3.7.6"
  }
 },
 "nbformat": 4,
 "nbformat_minor": 2
}
