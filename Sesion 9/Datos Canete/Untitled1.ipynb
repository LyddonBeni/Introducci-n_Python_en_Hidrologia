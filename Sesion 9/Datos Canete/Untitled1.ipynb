{
 "metadata": {
  "name": ""
 },
 "nbformat": 3,
 "nbformat_minor": 0,
 "worksheets": [
  {
   "cells": [
    {
     "cell_type": "code",
     "collapsed": false,
     "input": [
      "import random"
     ],
     "language": "python",
     "metadata": {},
     "outputs": [],
     "prompt_number": 2
    },
    {
     "cell_type": "code",
     "collapsed": false,
     "input": [
      "c=[ random.normalvariate(300,50) for i in range(500)]"
     ],
     "language": "python",
     "metadata": {},
     "outputs": [],
     "prompt_number": 3
    },
    {
     "cell_type": "code",
     "collapsed": false,
     "input": [
      "from pylab import *\n",
      "plot(c)\n",
      "figure()\n",
      "hist(c)\n",
      "show()"
     ],
     "language": "python",
     "metadata": {},
     "outputs": [],
     "prompt_number": 4
    },
    {
     "cell_type": "code",
     "collapsed": false,
     "input": [
      "from pylab import *\n",
      "import random\n",
      "def noReplacementSimulation(numTrials):\n",
      "    '''\n",
      "    Runs numTrials trials of a Monte Carlo simulation\n",
      "    of drawing 3 balls out of a bucket containing\n",
      "    3 red and 3 green balls. Balls are not replaced once\n",
      "    drawn. Returns the a decimal - the fraction of times 3 \n",
      "    balls of the same color were drawn.\n",
      "    '''\n",
      "    # Your code here\n",
      "    #import random\n",
      "    \n",
      "    def extract(x):\n",
      "        result=[]\n",
      "        for i in range(3):\n",
      "            result.append(random.choice(x))\n",
      "            x.remove(result[-1])\n",
      "        return result\n",
      "    heads=0.0\n",
      "    for num in range(numTrials):\n",
      "        a=[0,0,0,1,1,1]\n",
      "        respuesta=extract(a)\n",
      "        if respuesta==[0,0,0] or respuesta==[1,1,1] :\n",
      "            heads=heads+1.0\n",
      "    return heads/numTrials"
     ],
     "language": "python",
     "metadata": {},
     "outputs": [],
     "prompt_number": 13
    },
    {
     "cell_type": "code",
     "collapsed": false,
     "input": [
      "def ploteSimula(Ejemplos,numTrials):\n",
      "    a=[]\n",
      "    for num in range(Ejemplos):\n",
      "        a.append(noReplacementSimulation(numTrials))\n",
      "    return a\n",
      "        \n",
      "    \n",
      "    "
     ],
     "language": "python",
     "metadata": {},
     "outputs": [],
     "prompt_number": 19
    },
    {
     "cell_type": "code",
     "collapsed": false,
     "input": [
      "resultados=ploteSimula(10000,100)"
     ],
     "language": "python",
     "metadata": {},
     "outputs": [],
     "prompt_number": 23
    },
    {
     "cell_type": "code",
     "collapsed": false,
     "input": [
      "hist(resultados)\n",
      "show()"
     ],
     "language": "python",
     "metadata": {},
     "outputs": [],
     "prompt_number": 24
    },
    {
     "cell_type": "code",
     "collapsed": false,
     "input": [],
     "language": "python",
     "metadata": {},
     "outputs": []
    }
   ],
   "metadata": {}
  }
 ]
}