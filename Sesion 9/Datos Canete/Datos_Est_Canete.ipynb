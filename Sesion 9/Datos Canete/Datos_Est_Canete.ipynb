{
 "metadata": {
  "name": "",
  "signature": "sha256:b8eb2da8f02e43a40cac8603b931f97a2b3c19aa546b987a9c14815cd554bd97"
 },
 "nbformat": 3,
 "nbformat_minor": 0,
 "worksheets": [
  {
   "cells": [
    {
     "cell_type": "code",
     "collapsed": false,
     "input": [
      "import pandas as pd\n",
      "import numpy as np\n",
      "from mpl_toolkits.mplot3d import Axes3D\n",
      "from matplotlib.collections import PolyCollection\n",
      "from matplotlib.colors import colorConverter\n",
      "import matplotlib.pyplot as plt\n",
      "\n",
      "\n",
      "# Importamos los archivos a la memoria de la computadora\n",
      "%cd C:\\Users\\GIDA-Laptop1\\Documents\\IPython Notebooks\\Datos_Canete\n",
      "d_Carania = pd.read_excel('1_CARANIA.xlsx', 'Precipitaciones', index_col=0, parse_dates=True)\n",
      "d_Huangascar = pd.read_excel('2_HUANGASCAR.xlsx', 'Precipitaciones', index_col=0, parse_dates=True)\n",
      "d_Pacaran = pd.read_excel('3_PACARAN.xlsx', 'Precipitaciones', index_col=0, parse_dates=True)\n",
      "d_Tanta = pd.read_excel('4_TANTA.xlsx', 'Precipitaciones', index_col=0, parse_dates=True)\n",
      "d_Vilca = pd.read_excel('5_VILCA.xlsx', 'Precipitaciones', index_col=0, parse_dates=True)\n",
      "d_Yauyos = pd.read_excel('6_YAUYOS.xlsx', 'Precipitaciones', index_col=0, parse_dates=True)\n",
      "d_Huantan = pd.read_excel('7_HUANTAN.xlsx', 'Precipitaciones', index_col=0, parse_dates=True)\n",
      "d_Tomas = pd.read_excel('8_TOMAS.xlsx', 'Precipitaciones', index_col=0, parse_dates=True)\n",
      "d_Yauricocha = pd.read_excel('9_YAURICOCHA.xlsx', 'Precipitaciones', index_col=0, parse_dates=True)\n",
      "\n",
      "# Agrupamos los datos como promedio de la precipitaci\u00f3n diaria por semanas\n",
      "a_Carania = d_Carania.groupby(lambda y: y.week)\n",
      "b_Huangascar = d_Huangascar.groupby(lambda y: y.week)\n",
      "c_Pacaran = d_Pacaran.groupby(lambda y: y.week)\n",
      "d_Tanta = d_Tanta.groupby(lambda y: y.week)\n",
      "e_Vilca = d_Vilca.groupby(lambda y: y.week)\n",
      "f_Yauyos = d_Yauyos.groupby(lambda y: y.week)\n",
      "g_Huantan = d_Huantan.groupby(lambda y: y.week)\n",
      "h_Tomas = d_Tomas.groupby(lambda y: y.week)\n",
      "i_Yauricocha = d_Yauricocha.groupby(lambda y: y.week)\n",
      "\n",
      "# Cambiamos el formato de Pandas a Numpy\n",
      "a = a_Carania.mean().values\n",
      "b = b_Huangascar.mean().values\n",
      "c = c_Pacaran.mean().values\n",
      "d = d_Tanta.mean().values\n",
      "e = e_Vilca.mean().values\n",
      "f = f_Yauyos.mean().values\n",
      "g = g_Huantan.mean().values\n",
      "h = h_Tomas.mean().values\n",
      "i = i_Yauricocha.mean().values\n",
      "\n",
      "# Arreglamos los datos en un formato compatible con la librer\u00eda Plot3D de Matplotlib\n",
      "a.reshape(53)\n",
      "b.reshape(53)\n",
      "c.reshape(53)\n",
      "d.reshape(53)\n",
      "e.reshape(53)\n",
      "f.reshape(53)\n",
      "g.reshape(53)\n",
      "h.reshape(53)\n",
      "i.reshape(53)\n",
      "\n",
      "#Generamos el gr\u00e1fico en 3D\n",
      "fig = plt.figure()\n",
      "ax = fig.gca(projection='3d')\n",
      "\n",
      "xs = np.arange(53)\n",
      "ax.bar(xs, a, zs=3875.0, zdir='y', linewidth=0.1, color='#6c8aa9', alpha=1)\n",
      "ax.bar(xs, b, zs=2533.0, zdir='y', linewidth=0.1,color='#5cacbe', alpha=1)\n",
      "ax.bar(xs, c, zs=700.0, zdir='y', linewidth=0.1,color='#5cacbe', alpha=1)\n",
      "ax.bar(xs, d, zs=4323.0, zdir='y', linewidth=0.1,color='#3bd5d7', alpha=1)\n",
      "ax.bar(xs, e, zs=3864.0, zdir='y', linewidth=0.1,color='#5cacbe', alpha=1)\n",
      "ax.bar(xs, f, zs=2327.0, zdir='y', linewidth=0.1,color='#2272dd', alpha=1)\n",
      "ax.bar(xs, g, zs=3272.0, zdir='y', linewidth=0.1,color='#5b86c0', alpha=1)\n",
      "ax.bar(xs, h, zs=3542.0, zdir='y', linewidth=0.1,color='#5b86c0', alpha=1)\n",
      "ax.bar(xs, i, zs=4675.0, zdir='y', linewidth=0.1,color='#5b86c0', alpha=1)\n",
      "\n",
      "ax.legend()\n",
      "ax.set_xlim([0, 52])\n",
      "ax.set_ylim([700, 4700])\n",
      "\n",
      "ax.set_xlabel('Semana')\n",
      "ax.set_ylabel('Elevacion')\n",
      "ax.set_zlabel('Precipitacion Diaria Promedio')\n",
      "\n",
      "plt.show()"
     ],
     "language": "python",
     "metadata": {},
     "outputs": [
      {
       "output_type": "stream",
       "stream": "stdout",
       "text": [
        "C:\\Users\\GIDA-Laptop1\\Documents\\IPython Notebooks\\Datos_Canete\n"
       ]
      }
     ],
     "prompt_number": 33
    },
    {
     "cell_type": "code",
     "collapsed": false,
     "input": [
      "ax."
     ],
     "language": "python",
     "metadata": {},
     "outputs": []
    }
   ],
   "metadata": {}
  }
 ]
}