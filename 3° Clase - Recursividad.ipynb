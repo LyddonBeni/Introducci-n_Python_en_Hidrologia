{
 "cells": [
  {
   "cell_type": "markdown",
   "metadata": {},
   "source": [
    "# Enumeracion Exhautiva"
   ]
  },
  {
   "cell_type": "code",
   "execution_count": 6,
   "metadata": {},
   "outputs": [
    {
     "name": "stdout",
     "output_type": "stream",
     "text": [
      "Escoge un entero: 1\n",
      "La raiz cuadrada de 1 es 1\n"
     ]
    }
   ],
   "source": [
    "objetivo = int(input('Escoge un entero: '))\n",
    "respuesta = 0\n",
    "\n",
    "while respuesta**2 < objetivo:\n",
    "    respuesta += 1\n",
    "\n",
    "if respuesta**2 == objetivo:\n",
    "    print(f'La raiz cuadrada de {objetivo} es {respuesta}')\n",
    "else:\n",
    "    print(f'{objetivo} no tiene una raiz cuadrada exacta')"
   ]
  },
  {
   "cell_type": "markdown",
   "metadata": {},
   "source": [
    "# Aproximacion de Soluciones"
   ]
  },
  {
   "cell_type": "code",
   "execution_count": null,
   "metadata": {},
   "outputs": [
    {
     "name": "stdout",
     "output_type": "stream",
     "text": [
      "Escoge un numero: 3\n"
     ]
    }
   ],
   "source": [
    "objetivo = int(input('Escoge un numero: '))\n",
    "epsilon = 0.0001\n",
    "paso = epsilon**2 \n",
    "respuesta = 0.0\n",
    "\n",
    "while abs(respuesta**2 - objetivo) >= epsilon and respuesta <= objetivo:\n",
    "    respuesta += paso\n",
    "\n",
    "if abs(respuesta**2 - objetivo) >= epsilon:\n",
    "    print(f'No se encontro la raiz cuadrada {objetivo}')\n",
    "else:\n",
    "    print(f'La raiz cudrada de {objetivo} es {respuesta}')"
   ]
  },
  {
   "cell_type": "markdown",
   "metadata": {},
   "source": [
    "# Numeros flotantes"
   ]
  },
  {
   "cell_type": "code",
   "execution_count": 5,
   "metadata": {},
   "outputs": [
    {
     "name": "stdout",
     "output_type": "stream",
     "text": [
      "x != 0.9999999999999999\n"
     ]
    }
   ],
   "source": [
    "x = 0.0\n",
    "for i in range(10):\n",
    "    x += 0.1\n",
    "\n",
    "if x == 1.0:\n",
    "    print(f'x = {x}')\n",
    "else:\n",
    "    print(f'x != {x}')"
   ]
  },
  {
   "cell_type": "code",
   "execution_count": null,
   "metadata": {},
   "outputs": [],
   "source": []
  },
  {
   "cell_type": "code",
   "execution_count": 1,
   "metadata": {},
   "outputs": [],
   "source": [
    "\"definir funcion factorial\"\n",
    "def factorial(n):\n",
    "    \"Funcion recursiva que calcula el factorial de n\"   \n",
    "    if n==0 or n==1:\n",
    "        return 1\n",
    "    else:\n",
    "        return n*factorial(n-1)"
   ]
  },
  {
   "cell_type": "code",
   "execution_count": 8,
   "metadata": {},
   "outputs": [
    {
     "data": {
      "text/plain": [
       "120"
      ]
     },
     "execution_count": 8,
     "metadata": {},
     "output_type": "execute_result"
    }
   ],
   "source": [
    "factorial(5)"
   ]
  },
  {
   "cell_type": "code",
   "execution_count": 11,
   "metadata": {},
   "outputs": [],
   "source": [
    "\"definir funcion potencia\"\n",
    "def potencia(a,b):\n",
    "    \"Funcion recursiva\"\n",
    "    if b==0:\n",
    "        return 1\n",
    "    else:\n",
    "        return a*potencia(a,b-1)"
   ]
  },
  {
   "cell_type": "code",
   "execution_count": 12,
   "metadata": {},
   "outputs": [
    {
     "data": {
      "text/plain": [
       "8"
      ]
     },
     "execution_count": 12,
     "metadata": {},
     "output_type": "execute_result"
    }
   ],
   "source": [
    "potencia(2,3)"
   ]
  },
  {
   "cell_type": "code",
   "execution_count": 14,
   "metadata": {
    "collapsed": true
   },
   "outputs": [],
   "source": [
    "\"definir funcion fibonacci\"\n",
    "def fibonacci(c):\n",
    "    \"Funcion recursiva para caculo de fibonacci\"\n",
    "    if c==0 or c==1:\n",
    "        return 1\n",
    "    else:\n",
    "        return fibonacci(c-1)+fibonacci(c-2)"
   ]
  },
  {
   "cell_type": "code",
   "execution_count": 19,
   "metadata": {},
   "outputs": [
    {
     "data": {
      "text/plain": [
       "13"
      ]
     },
     "execution_count": 19,
     "metadata": {},
     "output_type": "execute_result"
    }
   ],
   "source": [
    "fibonacci(6)"
   ]
  },
  {
   "cell_type": "code",
   "execution_count": 22,
   "metadata": {},
   "outputs": [
    {
     "name": "stdout",
     "output_type": "stream",
     "text": [
      "1\n",
      "1\n",
      "2\n",
      "3\n",
      "5\n",
      "8\n",
      "13\n",
      "21\n",
      "34\n",
      "55\n"
     ]
    }
   ],
   "source": [
    "n=10\n",
    "for c in range(0,n):\n",
    "    print(fibonacci(c))"
   ]
  },
  {
   "cell_type": "code",
   "execution_count": 1,
   "metadata": {},
   "outputs": [
    {
     "name": "stdout",
     "output_type": "stream",
     "text": [
      "3\n",
      "2\n",
      "1\n",
      "0\n"
     ]
    }
   ],
   "source": [
    "i=3\n",
    "while i >=0:\n",
    "    print (i)\n",
    "    i=i-1"
   ]
  },
  {
   "cell_type": "code",
   "execution_count": null,
   "metadata": {},
   "outputs": [],
   "source": []
  }
 ],
 "metadata": {
  "kernelspec": {
   "display_name": "Python 3",
   "language": "python",
   "name": "python3"
  },
  "language_info": {
   "codemirror_mode": {
    "name": "ipython",
    "version": 3
   },
   "file_extension": ".py",
   "mimetype": "text/x-python",
   "name": "python",
   "nbconvert_exporter": "python",
   "pygments_lexer": "ipython3",
   "version": "3.7.6"
  }
 },
 "nbformat": 4,
 "nbformat_minor": 2
}
