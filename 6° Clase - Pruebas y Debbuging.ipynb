{
 "cells": [
  {
   "cell_type": "markdown",
   "metadata": {},
   "source": [
    "# Pruebas y Debugging"
   ]
  },
  {
   "cell_type": "markdown",
   "metadata": {},
   "source": [
    "## Pruebas de caja negra"
   ]
  },
  {
   "cell_type": "markdown",
   "metadata": {},
   "source": [
    "Se basan en la especificaiocn de la funcion o el programa. <br>\n",
    "asumimos que no conocemos la implementacion. <br>\n",
    "* Prueba de inputs y output.\n",
    "* unit testing o integration testing."
   ]
  },
  {
   "cell_type": "code",
   "execution_count": null,
   "metadata": {},
   "outputs": [],
   "source": [
    "import unittest # modulo de python que permite generar pruebas\n",
    "\n",
    "def suma(num1, num2):\n",
    "    return num1 + num2\n",
    "\n",
    "# Esta creacion del objeto crea automaticamente los testeo dentro del modulo de python\n",
    "class CajaNegraTest(unittest.TestCase):\n",
    "    # Las pruebas desde funciones\n",
    "    def test_suma_dos_positivos(self):\n",
    "        num_1 = 10\n",
    "        num_2 = 5\n",
    "\n",
    "        resultado = suma(num_1, num_2)\n",
    "        self.assertEqual(resultado, 15)\n",
    "        \n",
    "    def test_suma_dos_negativos(self):\n",
    "        num_1 = -10\n",
    "        num_2 = -7\n",
    "\n",
    "        resultado = suma(num_1, num_2)\n",
    "        self.assertEqual(resultado, -17)\n",
    "    \n",
    "if __name__ == '__main__':\n",
    "    unittest.main()"
   ]
  },
  {
   "cell_type": "markdown",
   "metadata": {},
   "source": [
    "## Pruebas de caja de cristal"
   ]
  },
  {
   "cell_type": "markdown",
   "metadata": {},
   "source": [
    "Se basan en el flujo del programa <br>\n",
    "asumimos que sabemos la implementacion<br>\n",
    "* Prueba todos los caminos posibles de una funcion.\n",
    "* ramificaicones, bucles for, while, recursion.\n",
    "* Regression testing o mocks (descrubrimos un bug cuando ya tenemso el programa)"
   ]
  },
  {
   "cell_type": "code",
   "execution_count": null,
   "metadata": {},
   "outputs": [],
   "source": [
    "import unittest\n",
    "\n",
    "\n",
    "def es_mayor_de_edad(edad):\n",
    "    if edad >= 18:\n",
    "        return False\n",
    "    else:\n",
    "        return False\n",
    "\n",
    "\n",
    "class PruebaDeCristalTest(unittest.TestCase):\n",
    "\n",
    "    def test_es_mayor_de_edad(self):\n",
    "        edad = 20\n",
    "\n",
    "        resultado = es_mayor_de_edad(edad)\n",
    "\n",
    "        self.assertEqual(resultado, True)\n",
    "\n",
    "    def test_es_menor_de_edad(self):\n",
    "        edad = 15\n",
    "\n",
    "        resultado = es_mayor_de_edad(edad)\n",
    "\n",
    "        self.assertEqual(resultado, False)\n",
    "\n",
    "\n",
    "if __name__ == '__main__':\n",
    "    unittest.main()"
   ]
  },
  {
   "cell_type": "markdown",
   "metadata": {},
   "source": [
    "La diferencia entre las pruebas de Caja Negra y Caja de Cristal es que en las pruebas de caja negra se escriben primero los test para ayudarnos a implementar nuevo código. En las pruebas de caja de cristal se asume que se tiene código escrito y las pruebas se escriben para verificar todas las ramificaciones del programa y probar todos los diferentes caminos posibles."
   ]
  },
  {
   "cell_type": "markdown",
   "metadata": {},
   "source": [
    "## Debugging"
   ]
  },
  {
   "cell_type": "markdown",
   "metadata": {},
   "source": [
    "* Aprende autilizar el print statement\n",
    "* Estudia los datos disponibles\n",
    "* Utiliza los datos para crear hipotesis y experimentos.\n",
    "* No te preguntes porque falla el programa, preguntate porque funciona el programa de esa manera.\n",
    "* Si entendierass el programa, probablemente no habria bugs.\n",
    "* Lleva un registro de lo que has tratado, preferentemente test.\n",
    "* Vete a dormir."
   ]
  },
  {
   "cell_type": "markdown",
   "metadata": {},
   "source": [
    "### Diseño de Experimentos"
   ]
  },
  {
   "cell_type": "markdown",
   "metadata": {},
   "source": [
    "* Debuggear es un proceso de busqueda.\n",
    "* Cada prueba debe acotar un espacio de busqueda.\n",
    "* Realiza busqueda binaria con print statements."
   ]
  },
  {
   "cell_type": "markdown",
   "metadata": {},
   "source": [
    "### Errores comunes"
   ]
  },
  {
   "cell_type": "markdown",
   "metadata": {},
   "source": [
    "* Encuentra los errores comunes.\n",
    "* Errores personales (tipico de uno mismo)\n",
    "* Es posible que el bug no se encuentre donde crees que esta.\n",
    "* Explicate el probelma a otra persona. De preferencia que no tenga contexto."
   ]
  }
 ],
 "metadata": {
  "kernelspec": {
   "display_name": "Python 3",
   "language": "python",
   "name": "python3"
  },
  "language_info": {
   "codemirror_mode": {
    "name": "ipython",
    "version": 3
   },
   "file_extension": ".py",
   "mimetype": "text/x-python",
   "name": "python",
   "nbconvert_exporter": "python",
   "pygments_lexer": "ipython3",
   "version": "3.7.6"
  }
 },
 "nbformat": 4,
 "nbformat_minor": 4
}
