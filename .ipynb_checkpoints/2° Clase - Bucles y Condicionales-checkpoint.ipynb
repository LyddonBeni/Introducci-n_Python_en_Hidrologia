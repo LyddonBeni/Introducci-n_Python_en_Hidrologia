{
 "cells": [
  {
   "cell_type": "code",
   "execution_count": 26,
   "metadata": {},
   "outputs": [
    {
     "name": "stdout",
     "output_type": "stream",
     "text": [
      "y es menor a x\n"
     ]
    }
   ],
   "source": [
    "\"condicional Si\"\n",
    "a=5\n",
    "x=5+a\n",
    "y=7\n",
    "if x<y:\n",
    "    print(\"x es menor a y\")\n",
    "elif x==y:\n",
    "    print(\"y es igual a x\")\n",
    "else: \n",
    "    print(\"y es menor a x\")"
   ]
  },
  {
   "cell_type": "code",
   "execution_count": 31,
   "metadata": {},
   "outputs": [
    {
     "name": "stdout",
     "output_type": "stream",
     "text": [
      "5\n",
      "6\n",
      "7\n",
      "8\n",
      "9\n",
      "10\n"
     ]
    }
   ],
   "source": [
    "\"Bucle for\"\n",
    "b=10\n",
    "for z in range(a,b+1):\n",
    "    print(z)"
   ]
  },
  {
   "cell_type": "code",
   "execution_count": 59,
   "metadata": {},
   "outputs": [
    {
     "name": "stdout",
     "output_type": "stream",
     "text": [
      "la suma del 1 numeros es 5\n",
      "la suma del 2 numeros es 11\n",
      "la suma del 3 numeros es 18\n",
      "la suma del 4 numeros es 26\n",
      "la suma del 5 numeros es 35\n",
      "la suma del 6 numeros es 45\n"
     ]
    }
   ],
   "source": [
    "n=0\n",
    "c=0\n",
    "b=10\n",
    "for x in range(a,b+1):\n",
    "    n=n+x\n",
    "    c=c+1\n",
    "    print(\"la suma del \"+ str(c)+\" numeros es \"+ str(n))\n"
   ]
  },
  {
   "cell_type": "code",
   "execution_count": 49,
   "metadata": {},
   "outputs": [
    {
     "name": "stdout",
     "output_type": "stream",
     "text": [
      "1\n",
      "2\n",
      "3\n",
      "4\n",
      "5\n"
     ]
    }
   ],
   "source": [
    "\"bucle whil\"\n",
    "c=0\n",
    "while c<5:\n",
    "    print(c+1)\n",
    "    c=c+1"
   ]
  },
  {
   "cell_type": "code",
   "execution_count": 57,
   "metadata": {},
   "outputs": [
    {
     "name": "stdout",
     "output_type": "stream",
     "text": [
      "la suma de los primeros 1 numeros es: 1\n",
      "la suma de los primeros 2 numeros es: 3\n",
      "la suma de los primeros 3 numeros es: 6\n",
      "la suma de los primeros 4 numeros es: 10\n",
      "la suma de los primeros 5 numeros es: 15\n",
      "la suma de los primeros 6 numeros es: 21\n",
      "la suma de los primeros 7 numeros es: 28\n",
      "la suma de los primeros 8 numeros es: 36\n",
      "la suma de los primeros 9 numeros es: 45\n",
      "la suma de los primeros 10 numeros es: 55\n"
     ]
    }
   ],
   "source": [
    "c=0\n",
    "b=0\n",
    "while c<10:\n",
    "    c=c+1\n",
    "    b=b+c\n",
    "    print(\"la suma de los primeros \"+str(c)+ \" numeros es: \"+ str(b))"
   ]
  },
  {
   "cell_type": "code",
   "execution_count": null,
   "metadata": {
    "collapsed": true
   },
   "outputs": [],
   "source": []
  }
 ],
 "metadata": {
  "kernelspec": {
   "display_name": "Python 3",
   "language": "python",
   "name": "python3"
  },
  "language_info": {
   "codemirror_mode": {
    "name": "ipython",
    "version": 3
   },
   "file_extension": ".py",
   "mimetype": "text/x-python",
   "name": "python",
   "nbconvert_exporter": "python",
   "pygments_lexer": "ipython3",
   "version": "3.7.6"
  }
 },
 "nbformat": 4,
 "nbformat_minor": 2
}
