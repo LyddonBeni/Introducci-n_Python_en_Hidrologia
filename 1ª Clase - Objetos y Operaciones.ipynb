{
 "cells": [
  {
   "cell_type": "markdown",
   "metadata": {},
   "source": [
    "# Introduccion a Python"
   ]
  },
  {
   "attachments": {},
   "cell_type": "markdown",
   "metadata": {},
   "source": [
    "Lenguaje de programación dinámico, interpretado y fácil de aprender<br>\n",
    "clasificado como :<br>\n",
    "* <b>Lenguaje de Alto nivel</b><br>\n",
    "* <b>Lenguaje general </b><br>\n",
    "* <b>Lenguaje Interpreatado</b><br>\n",
    "  \n",
    ">Creado por Guido van Rossum en 1991<br>\n",
    ">Ampliamente utilizado en ciencia e ingeniería<br>"
   ]
  },
  {
   "cell_type": "markdown",
   "metadata": {},
   "source": [
    "## Primera linea de codigo"
   ]
  },
  {
   "cell_type": "code",
   "execution_count": 1,
   "metadata": {
    "scrolled": true
   },
   "outputs": [
    {
     "ename": "SyntaxError",
     "evalue": "invalid syntax (<ipython-input-1-79bb49c0df15>, line 1)",
     "output_type": "error",
     "traceback": [
      "\u001b[1;36m  File \u001b[1;32m\"<ipython-input-1-79bb49c0df15>\"\u001b[1;36m, line \u001b[1;32m1\u001b[0m\n\u001b[1;33m    print(Hola mundo)\u001b[0m\n\u001b[1;37m                   ^\u001b[0m\n\u001b[1;31mSyntaxError\u001b[0m\u001b[1;31m:\u001b[0m invalid syntax\n"
     ]
    }
   ],
   "source": [
    "print(Hola mundo)"
   ]
  },
  {
   "cell_type": "markdown",
   "metadata": {},
   "source": [
    "Sin las comillas se muestra un error de sintaxis,\n",
    "la manera correcta es:"
   ]
  },
  {
   "cell_type": "code",
   "execution_count": 2,
   "metadata": {},
   "outputs": [
    {
     "name": "stdout",
     "output_type": "stream",
     "text": [
      "Hola mundo\n"
     ]
    }
   ],
   "source": [
    "print(\"Hola mundo\")"
   ]
  },
  {
   "cell_type": "markdown",
   "metadata": {},
   "source": [
    "### Comentarios"
   ]
  },
  {
   "cell_type": "markdown",
   "metadata": {},
   "source": [
    "Los comentarios son introducidos por un #.<br>\n",
    "   • Pueden estar en línea. <br>\n",
    "   • como al comienzo de una línea.<br>"
   ]
  },
  {
   "cell_type": "code",
   "execution_count": 3,
   "metadata": {},
   "outputs": [],
   "source": [
    "# Este es un comentario"
   ]
  },
  {
   "cell_type": "markdown",
   "metadata": {},
   "source": [
    "## Objetos y Variables"
   ]
  },
  {
   "cell_type": "markdown",
   "metadata": {},
   "source": [
    "Son la abstraccion mas alta,dentro del lenguaje de programacion. <br>\n",
    "son las formas en las que modelamos el mundo en nuestro lenguaje de programacion <br>\n",
    ">Los objetos son valores en memoria. <br>\n",
    ">Todo en python es un objeto <br>"
   ]
  },
  {
   "cell_type": "markdown",
   "metadata": {},
   "source": [
    "### Variables"
   ]
  },
  {
   "cell_type": "markdown",
   "metadata": {},
   "source": [
    "En Python, las variables no necesitan ser declaradas. <br>\n",
    "* Por lo tanto, se escribe dinámicamente. <br>\n",
    "* Una variable puede cambiar a cad momento de valor.<br>\n",
    "<br>"
   ]
  },
  {
   "cell_type": "code",
   "execution_count": 4,
   "metadata": {},
   "outputs": [
    {
     "name": "stdout",
     "output_type": "stream",
     "text": [
      "El valor de a es: 3 siendo de clase: <class 'int'>\n",
      "El valor de a es: Hola siendo de clase: <class 'str'>\n"
     ]
    }
   ],
   "source": [
    "a = 3\n",
    "print (\"El valor de a es:\", a , \"siendo de clase:\", type ( a )) \n",
    "a  =  'Hola' \n",
    "print (\"El valor de a es:\", a , \"siendo de clase:\" ,  type ( a ))"
   ]
  },
  {
   "cell_type": "markdown",
   "metadata": {},
   "source": [
    "En Python, los nombres de variables pueden:<br>\n",
    "* incluir letras, dígitos y guiones bajos\n",
    "* no puede comenzar con un dígito\n",
    "* Se diferencia entre mayúsculas y minúsculas"
   ]
  },
  {
   "cell_type": "code",
   "execution_count": 5,
   "metadata": {},
   "outputs": [],
   "source": [
    "# Declaracion de variable tipo entero\n",
    "x=20;\n",
    "# Declaracion de variable tipo cadena\n",
    "y=10.30;\n",
    "# Declaracion de variable tipo complejo\n",
    "z= 2 + 3j\n",
    "# Declaracion de variable tipo boleano\n",
    "a= True;\n",
    "# Declaracion de variable tipo none\n",
    "b= None;\n",
    "# Declaracion de Variables tipo Cadena\n",
    "c=\"24\";\n",
    "# Declaracion de clase tipo lista\n",
    "d= [1,3];\n",
    "# Declaracion de clase tipo Diccionario\n",
    "e={\"Hola\",20,30};\n",
    "# Declaracion de clase tipo tuplas\n",
    "f=(a,b,c);"
   ]
  },
  {
   "cell_type": "markdown",
   "metadata": {},
   "source": [
    "#### Imprimendo tipos de variables"
   ]
  },
  {
   "cell_type": "code",
   "execution_count": 6,
   "metadata": {},
   "outputs": [
    {
     "name": "stdout",
     "output_type": "stream",
     "text": [
      "20 - <class 'int'>\n",
      "10.3 - <class 'float'>\n",
      "(2+3j) - <class 'complex'>\n",
      "True - <class 'bool'>\n",
      "None - <class 'NoneType'>\n",
      "24 - <class 'str'>\n",
      "[1, 3] - <class 'list'>\n",
      "{'Hola', 20, 30} - <class 'set'>\n",
      "(True, None, '24') - <class 'tuple'>\n"
     ]
    }
   ],
   "source": [
    "print ( x,\"-\",type (x))\n",
    "print ( y,\"-\",type (y))\n",
    "print ( z,\"-\",type (z))\n",
    "print ( a,\"-\",type (a))\n",
    "print ( b,\"-\",type (b))\n",
    "print ( c,\"-\",type (c))\n",
    "print ( d,\"-\",type (d))\n",
    "print ( e,\"-\",type (e))\n",
    "print ( f,\"-\",type (f))"
   ]
  },
  {
   "cell_type": "markdown",
   "metadata": {},
   "source": [
    "Para convertir entre tipos numéricos podemos usar las funciones int, float y complex:"
   ]
  },
  {
   "cell_type": "code",
   "execution_count": 7,
   "metadata": {},
   "outputs": [],
   "source": [
    "y=int(y); # convertir variable tipo flotante a entero\n",
    "c=float(c);  # convertir variable tipo cadena a flotante\n",
    "x=complex(x); # convertir variable tipo entero a complejo"
   ]
  },
  {
   "cell_type": "code",
   "execution_count": 8,
   "metadata": {},
   "outputs": [
    {
     "name": "stdout",
     "output_type": "stream",
     "text": [
      "10 - <class 'int'>\n",
      "24.0 - <class 'float'>\n",
      "(20+0j) - <class 'complex'>\n"
     ]
    }
   ],
   "source": [
    "print ( y,\"-\",type (y))\n",
    "print ( c,\"-\",type (c))\n",
    "print ( x,\"-\",type (x))"
   ]
  },
  {
   "cell_type": "markdown",
   "metadata": {},
   "source": [
    "### Variables simples"
   ]
  },
  {
   "cell_type": "markdown",
   "metadata": {},
   "source": [
    "#### Enteros (int)"
   ]
  },
  {
   "cell_type": "markdown",
   "metadata": {},
   "source": [
    "Tienen precisión arbitraria. No se desbordan."
   ]
  },
  {
   "cell_type": "code",
   "execution_count": 9,
   "metadata": {},
   "outputs": [
    {
     "data": {
      "text/plain": [
       "1267650600228229401496703205376"
      ]
     },
     "execution_count": 9,
     "metadata": {},
     "output_type": "execute_result"
    }
   ],
   "source": [
    "2**100"
   ]
  },
  {
   "cell_type": "markdown",
   "metadata": {},
   "source": [
    "#### Flotantes"
   ]
  },
  {
   "cell_type": "markdown",
   "metadata": {},
   "source": [
    "Son de tipo decimal.\n",
    "* La precision es limitada."
   ]
  },
  {
   "cell_type": "code",
   "execution_count": 10,
   "metadata": {},
   "outputs": [
    {
     "name": "stdout",
     "output_type": "stream",
     "text": [
      "False\n",
      "0.1 = 0.10000000000000001\n",
      "0.2 = 0.20000000000000001\n",
      "0.3 = 0.29999999999999999\n",
      "==========================\n",
      "True\n",
      "0.2 = 0.20000000000000001\n",
      "0.3 = 0.29999999999999999\n",
      "0.5 = 0.50000000000000000\n"
     ]
    }
   ],
   "source": [
    "# Al comparar da  como resultado false por los decimales\n",
    "print(0.1 + 0.2 == 0.3)\n",
    "print('0.1 = {0:.17f}'.format(0.1))\n",
    "print('0.2 = {0:.17f}'.format(0.2))\n",
    "print('0.3 = {0:.17f}'.format(0.3))\n",
    "print('==========================')\n",
    "# Al comparar \n",
    "print(0.2 + 0.3 == 0.5)\n",
    "print('0.2 = {0:.17f}'.format(0.2))\n",
    "print('0.3 = {0:.17f}'.format(0.3))\n",
    "print('0.5 = {0:.17f}'.format(0.5))"
   ]
  },
  {
   "cell_type": "markdown",
   "metadata": {},
   "source": [
    "#### Numeros complejos"
   ]
  },
  {
   "cell_type": "markdown",
   "metadata": {},
   "source": [
    "* Algunos metodos paralos numeros complejos"
   ]
  },
  {
   "cell_type": "code",
   "execution_count": 11,
   "metadata": {},
   "outputs": [],
   "source": [
    "n = 12 + 4j"
   ]
  },
  {
   "cell_type": "code",
   "execution_count": 12,
   "metadata": {},
   "outputs": [
    {
     "name": "stdout",
     "output_type": "stream",
     "text": [
      "Parte real: 12.0\n",
      "parte imaginaria: 4.0\n",
      "Conjugado: (12-4j)\n",
      "Magnitud: 12.649110640673518\n"
     ]
    }
   ],
   "source": [
    "print('Parte real:', n.real)\n",
    "print('parte imaginaria:', n.imag)\n",
    "print('Conjugado:', n.conjugate())\n",
    "print('Magnitud:', abs(n))"
   ]
  },
  {
   "cell_type": "markdown",
   "metadata": {},
   "source": [
    "#### Cadenas"
   ]
  },
  {
   "cell_type": "markdown",
   "metadata": {},
   "source": [
    "* Algunos metodos paralos numeros complejos"
   ]
  },
  {
   "cell_type": "code",
   "execution_count": 13,
   "metadata": {},
   "outputs": [],
   "source": [
    "s = 'good morning'"
   ]
  },
  {
   "cell_type": "code",
   "execution_count": 14,
   "metadata": {},
   "outputs": [
    {
     "name": "stdout",
     "output_type": "stream",
     "text": [
      "Longitud: 12\n",
      "Convertir en Mayuscula: GOOD MORNING\n",
      "Nombre propio: Good morning\n",
      "Concatenar: good morningseñor\n",
      "Concatenacion multiple: good morninggood morninggood morninggood morning\n",
      "o\n",
      "i\n",
      "mornin\n"
     ]
    }
   ],
   "source": [
    "print('Longitud:', len(s))\n",
    "print('Convertir en Mayuscula:', s.upper())\n",
    "print('Nombre propio:', s.capitalize())\n",
    "print('Concatenar:', s + \"señor\")\n",
    "print('Concatenacion multiple:', s * 4)\n",
    "print (s[2]) #devuelve la posicion de la cadena comenzando desde cero\n",
    "print (s[-3]) # Devuelve la poscicion de la cadena empezando del final\n",
    "print (s[5:-1]) # Devuleve el intervalo de la cadena dentro del parametro"
   ]
  },
  {
   "cell_type": "markdown",
   "metadata": {},
   "source": [
    "### Estructura de Datos"
   ]
  },
  {
   "cell_type": "markdown",
   "metadata": {},
   "source": [
    "#### Listas"
   ]
  },
  {
   "cell_type": "markdown",
   "metadata": {},
   "source": [
    "Las listas son colecciones de datos ordenadas y mutables . Se definen entre `[]`."
   ]
  },
  {
   "cell_type": "code",
   "execution_count": 15,
   "metadata": {},
   "outputs": [],
   "source": [
    "Litas_Elementos  =  [ 1 ,  'a' ,  [ 1 , 2 , 3 ]]"
   ]
  },
  {
   "cell_type": "markdown",
   "metadata": {},
   "source": [
    "* Algunos metodos para las Listas"
   ]
  },
  {
   "cell_type": "code",
   "execution_count": 16,
   "metadata": {},
   "outputs": [
    {
     "name": "stdout",
     "output_type": "stream",
     "text": [
      "1\n",
      "[1, 2, 3]\n",
      "3\n"
     ]
    }
   ],
   "source": [
    "print ( Litas_Elementos [ 0 ]) \n",
    "print ( Litas_Elementos [ 2 ]) \n",
    "print ( Litas_Elementos [ 2 ] [ 2 ])"
   ]
  },
  {
   "cell_type": "markdown",
   "metadata": {},
   "source": [
    "* Otros metodos de indexacion para Listas"
   ]
  },
  {
   "cell_type": "code",
   "execution_count": 17,
   "metadata": {},
   "outputs": [],
   "source": [
    "L  =  [ 2 , 4 , 3 , 5 , 10 , 6 , 1 , 0 ] "
   ]
  },
  {
   "cell_type": "code",
   "execution_count": 18,
   "metadata": {},
   "outputs": [
    {
     "name": "stdout",
     "output_type": "stream",
     "text": [
      "[3, 5]\n",
      "[2, 4, 3]\n",
      "[5, 10, 6, 1, 0]\n",
      "[2, 3, 10, 1]\n",
      "[2, 3, 10, 1]\n"
     ]
    }
   ],
   "source": [
    "print ( L [2:4])  # Devuelve el intervalo de lalista\n",
    "print ( L [: 3 ]) \n",
    "print ( L [ 3 :]) \n",
    "print ( L [ 0 : - 1 : 2 ]) \n",
    "print ( L [:: 2 ])"
   ]
  },
  {
   "cell_type": "code",
   "execution_count": 19,
   "metadata": {},
   "outputs": [],
   "source": [
    " L.sort()"
   ]
  },
  {
   "cell_type": "markdown",
   "metadata": {},
   "source": [
    "* Algunos métodos útiles son:"
   ]
  },
  {
   "cell_type": "code",
   "execution_count": 20,
   "metadata": {},
   "outputs": [
    {
     "name": "stdout",
     "output_type": "stream",
     "text": [
      "Longitud: 3\n",
      "Agregando elemento: [1, [1, 2, 3], 200]\n",
      "Concatenar: [1, [1, 2, 3], 200, 25, 35, 45]\n",
      "Clasificacion: [0, 1, 2, 3, 4, 5, 6, 10]\n"
     ]
    }
   ],
   "source": [
    "print('Longitud:', len(Litas_Elementos)) # Longitud de la lista\n",
    "Litas_Elementos.append(200) # Agrega elementos a la lista\n",
    "Litas_Elementos.remove(\"a\") # Remueve el elemento seleccionado\n",
    "print('Agregando elemento:', Litas_Elementos) # imprime lista con elementos agregados y eliminados\n",
    "print('Concatenar:', Litas_Elementos + [25,35,45]) #\n",
    "L.sort() # ordena los elementos de la lista\n",
    "print('Clasificacion:', L) # imprime lista ordenada"
   ]
  },
  {
   "cell_type": "markdown",
   "metadata": {},
   "source": [
    "* Operacion entre listas"
   ]
  },
  {
   "cell_type": "code",
   "execution_count": 21,
   "metadata": {},
   "outputs": [
    {
     "name": "stdout",
     "output_type": "stream",
     "text": [
      "[1, [1, 2, 3], 200, 0, 1, 2, 3, 4, 5, 6, 10]\n"
     ]
    }
   ],
   "source": [
    "Nueva_Lista = Litas_Elementos + L;\n",
    "print(Nueva_Lista)"
   ]
  },
  {
   "cell_type": "markdown",
   "metadata": {},
   "source": [
    "#### Tuplas"
   ]
  },
  {
   "cell_type": "markdown",
   "metadata": {},
   "source": [
    "Las tuplas son similares a las listas, pero se definen entre paréntesis en lugar de corchetes. <br>\n",
    "* Son inmutables.\n",
    "* No tienen métodos para agregar y eliminar elementos."
   ]
  },
  {
   "cell_type": "code",
   "execution_count": 22,
   "metadata": {},
   "outputs": [
    {
     "name": "stdout",
     "output_type": "stream",
     "text": [
      "1\n"
     ]
    }
   ],
   "source": [
    "T  =  ( 1 , 2,'a' ) \n",
    "print ( T [ 0 ]) #imprime le valor en la poscicion 0"
   ]
  },
  {
   "cell_type": "code",
   "execution_count": 31,
   "metadata": {},
   "outputs": [
    {
     "name": "stdout",
     "output_type": "stream",
     "text": [
      "(1, 2, 'a')\n"
     ]
    }
   ],
   "source": [
    "T.index(1) #devuelve la posicion del elemento\n",
    "T.count(2)\n",
    "print (T)"
   ]
  },
  {
   "cell_type": "code",
   "execution_count": null,
   "metadata": {},
   "outputs": [],
   "source": []
  },
  {
   "cell_type": "code",
   "execution_count": null,
   "metadata": {},
   "outputs": [],
   "source": []
  },
  {
   "cell_type": "markdown",
   "metadata": {},
   "source": [
    "#### Diccionarios"
   ]
  },
  {
   "cell_type": "code",
   "execution_count": null,
   "metadata": {},
   "outputs": [],
   "source": []
  },
  {
   "cell_type": "markdown",
   "metadata": {},
   "source": [
    "## Operadores"
   ]
  },
  {
   "cell_type": "code",
   "execution_count": 24,
   "metadata": {},
   "outputs": [
    {
     "name": "stdout",
     "output_type": "stream",
     "text": [
      "Operacion aritmetica:  25\n",
      "División:  2.125\n",
      "División entero:  2\n",
      "Módulo:  0\n",
      "Exponenciación:  16\n",
      "Valor absoluto:  2.345\n",
      "Valor absoluto (C):  5.385164807134504\n",
      "Matriz multiplicacion:  8\n"
     ]
    }
   ],
   "source": [
    "# devuelve una operaicon aritmetica\n",
    "print ('Operacion aritmetica: ' ,  20 + 5 )\n",
    "\n",
    "# devuelve la divison de:\n",
    "print ('División: ' ,  17  /  8 )\n",
    "\n",
    "# Devuelve el entero de la division:\n",
    "print ('División entero: ' ,  17  //  8 )\n",
    "\n",
    "# \n",
    "print ( 'Módulo: ' ,  18  %  9 )\n",
    "\n",
    "# \n",
    "print ( 'Exponenciación: ' ,  2 ** 4 )\n",
    "\n",
    "# Devuelve el valor absoluto con abs:\n",
    "print(\"Valor absoluto: \",abs(-2.345))\n",
    "\n",
    "# valor asbsoluto de numeros complejos\n",
    "print(\"Valor absoluto (C): \",abs(2+5j))\n",
    "# \n",
    "import numpy as np\n",
    "print('Matriz multiplicacion: ', np.array([1,2]) @ np.array([2,3]))"
   ]
  },
  {
   "cell_type": "code",
   "execution_count": 25,
   "metadata": {},
   "outputs": [
    {
     "name": "stdout",
     "output_type": "stream",
     "text": [
      "Resultado:\n",
      "5\n"
     ]
    }
   ],
   "source": [
    "#Declaracion de Variables Numericcas\n",
    "m=2;\n",
    "n=3;\n",
    "#operacion con variables\n",
    "print (\"Resultado:\")\n",
    "print (m+n)"
   ]
  },
  {
   "cell_type": "markdown",
   "metadata": {},
   "source": [
    "### Otro Operadores"
   ]
  },
  {
   "cell_type": "markdown",
   "metadata": {},
   "source": [
    "También tenemos los operadores de comparación:"
   ]
  },
  {
   "cell_type": "code",
   "execution_count": 26,
   "metadata": {},
   "outputs": [
    {
     "name": "stdout",
     "output_type": "stream",
     "text": [
      "False\n",
      "True\n",
      "True\n",
      "False\n",
      "False\n",
      "True\n"
     ]
    }
   ],
   "source": [
    "# comparacion de igualdad\n",
    "print ( 12 ==  16 ) \n",
    "# comparacion de diferencia\n",
    "print ( 12  !=  16 ) \n",
    "# comparacion menor que\n",
    "print ( 12  <  16 ) \n",
    "# comparacion mayor que\n",
    "print ( 12  >  16 )\n",
    "# comparacion mayor igual que\n",
    "print ( 12  >= 16 ) \n",
    "# comparacion menor igual que\n",
    "print ( 12  <= 16 )"
   ]
  },
  {
   "cell_type": "markdown",
   "metadata": {},
   "source": [
    "* Podemos combinar estas condiciones usando operaciones booleanas:"
   ]
  },
  {
   "cell_type": "code",
   "execution_count": 27,
   "metadata": {},
   "outputs": [
    {
     "name": "stdout",
     "output_type": "stream",
     "text": [
      "True\n",
      "False\n",
      "True\n"
     ]
    }
   ],
   "source": [
    "print ( 12  !=  13  and  12  <  13 ) \n",
    "print ( 12  ==  13  and  12  <  13 ) \n",
    "print ( 12  ==  13  or  12  <  13 )"
   ]
  },
  {
   "cell_type": "markdown",
   "metadata": {},
   "source": [
    "* Algunas otras operaciones son tales que:"
   ]
  },
  {
   "cell_type": "code",
   "execution_count": 28,
   "metadata": {},
   "outputs": [
    {
     "name": "stdout",
     "output_type": "stream",
     "text": [
      "False\n",
      "True\n",
      "True\n",
      "False\n"
     ]
    }
   ],
   "source": [
    "print(12 is 13)\n",
    "print(12 is not 13)\n",
    "print(12 in [12,13])\n",
    "print(12 not in [12,13])"
   ]
  },
  {
   "cell_type": "markdown",
   "metadata": {},
   "source": [
    "* Comparaciones logicas"
   ]
  },
  {
   "cell_type": "code",
   "execution_count": 29,
   "metadata": {},
   "outputs": [
    {
     "name": "stdout",
     "output_type": "stream",
     "text": [
      "comparaciones con and:\n",
      "False\n",
      "True\n",
      "False\n",
      "===================\n",
      "comparaciones con or:\n",
      "False\n",
      "True\n",
      "True\n"
     ]
    }
   ],
   "source": [
    "print(\"comparaciones con and:\")\n",
    "print(False and False)\n",
    "print(True and True)\n",
    "print(True and False)\n",
    "print(\"===================\")\n",
    "print(\"comparaciones con or:\")\n",
    "print(False or False)\n",
    "print(True or True)\n",
    "print(True or False)"
   ]
  }
 ],
 "metadata": {
  "kernelspec": {
   "display_name": "Python 3",
   "language": "python",
   "name": "python3"
  },
  "language_info": {
   "codemirror_mode": {
    "name": "ipython",
    "version": 3
   },
   "file_extension": ".py",
   "mimetype": "text/x-python",
   "name": "python",
   "nbconvert_exporter": "python",
   "pygments_lexer": "ipython3",
   "version": "3.7.6"
  }
 },
 "nbformat": 4,
 "nbformat_minor": 2
}
