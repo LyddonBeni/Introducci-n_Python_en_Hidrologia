{
 "cells": [
  {
   "cell_type": "code",
   "execution_count": 8,
   "metadata": {
    "collapsed": false
   },
   "outputs": [
    {
     "name": "stdout",
     "output_type": "stream",
     "text": [
      "E:\\PRO - PROGRAMACION E INGENIERIA\\Curso Python en Hidrologia\\Sesiones\\Sesion 9\\Datos Canete\n"
     ]
    }
   ],
   "source": [
    "cd E:\\PRO - PROGRAMACION E INGENIERIA\\Curso Python en Hidrologia\\Sesiones\\Sesion 9\\Datos Canete"
   ]
  },
  {
   "cell_type": "code",
   "execution_count": 9,
   "metadata": {
    "collapsed": true
   },
   "outputs": [],
   "source": [
    "#importamos el DIRECTORIO Pylab\n",
    "import pylab as pl"
   ]
  },
  {
   "cell_type": "code",
   "execution_count": 11,
   "metadata": {
    "collapsed": false
   },
   "outputs": [
    {
     "ename": "NotImplementedError",
     "evalue": "parse_dates keyword of read_excel is not implemented",
     "output_type": "error",
     "traceback": [
      "\u001b[0;31m---------------------------------------------------------------------------\u001b[0m",
      "\u001b[0;31mNotImplementedError\u001b[0m                       Traceback (most recent call last)",
      "\u001b[0;32m<ipython-input-11-b86b7a6d03a5>\u001b[0m in \u001b[0;36m<module>\u001b[0;34m()\u001b[0m\n\u001b[1;32m      8\u001b[0m \u001b[1;33m\u001b[0m\u001b[0m\n\u001b[1;32m      9\u001b[0m \u001b[1;31m# Importamos los archivos a la memoria de la computadora\u001b[0m\u001b[1;33m\u001b[0m\u001b[1;33m\u001b[0m\u001b[0m\n\u001b[0;32m---> 10\u001b[0;31m \u001b[0md_Carania\u001b[0m \u001b[1;33m=\u001b[0m \u001b[0mpd\u001b[0m\u001b[1;33m.\u001b[0m\u001b[0mread_excel\u001b[0m\u001b[1;33m(\u001b[0m\u001b[1;34m'1_CARANIA.xlsx'\u001b[0m\u001b[1;33m,\u001b[0m \u001b[1;34m'Precipitaciones'\u001b[0m\u001b[1;33m,\u001b[0m \u001b[0mindex_col\u001b[0m\u001b[1;33m=\u001b[0m\u001b[1;36m0\u001b[0m\u001b[1;33m,\u001b[0m \u001b[0mparse_dates\u001b[0m\u001b[1;33m=\u001b[0m\u001b[1;32mTrue\u001b[0m\u001b[1;33m)\u001b[0m\u001b[1;33m\u001b[0m\u001b[0m\n\u001b[0m\u001b[1;32m     11\u001b[0m \u001b[0md_Huangascar\u001b[0m \u001b[1;33m=\u001b[0m \u001b[0mpd\u001b[0m\u001b[1;33m.\u001b[0m\u001b[0mread_excel\u001b[0m\u001b[1;33m(\u001b[0m\u001b[1;34m'2_HUANGASCAR.xlsx'\u001b[0m\u001b[1;33m,\u001b[0m \u001b[1;34m'Precipitaciones'\u001b[0m\u001b[1;33m,\u001b[0m \u001b[0mindex_col\u001b[0m\u001b[1;33m=\u001b[0m\u001b[1;36m0\u001b[0m\u001b[1;33m,\u001b[0m \u001b[0mparse_dates\u001b[0m\u001b[1;33m=\u001b[0m\u001b[1;32mTrue\u001b[0m\u001b[1;33m)\u001b[0m\u001b[1;33m\u001b[0m\u001b[0m\n\u001b[1;32m     12\u001b[0m \u001b[0md_Pacaran\u001b[0m \u001b[1;33m=\u001b[0m \u001b[0mpd\u001b[0m\u001b[1;33m.\u001b[0m\u001b[0mread_excel\u001b[0m\u001b[1;33m(\u001b[0m\u001b[1;34m'3_PACARAN.xlsx'\u001b[0m\u001b[1;33m,\u001b[0m \u001b[1;34m'Precipitaciones'\u001b[0m\u001b[1;33m,\u001b[0m \u001b[0mindex_col\u001b[0m\u001b[1;33m=\u001b[0m\u001b[1;36m0\u001b[0m\u001b[1;33m,\u001b[0m \u001b[0mparse_dates\u001b[0m\u001b[1;33m=\u001b[0m\u001b[1;32mTrue\u001b[0m\u001b[1;33m)\u001b[0m\u001b[1;33m\u001b[0m\u001b[0m\n",
      "\u001b[0;32mC:\\ProgramData\\Anaconda3\\lib\\site-packages\\pandas\\io\\excel.py\u001b[0m in \u001b[0;36mread_excel\u001b[0;34m(io, sheetname, header, skiprows, skip_footer, index_col, names, parse_cols, parse_dates, date_parser, na_values, thousands, convert_float, has_index_names, converters, true_values, false_values, engine, squeeze, **kwds)\u001b[0m\n\u001b[1;32m    198\u001b[0m         \u001b[0mskip_footer\u001b[0m\u001b[1;33m=\u001b[0m\u001b[0mskip_footer\u001b[0m\u001b[1;33m,\u001b[0m \u001b[0mconverters\u001b[0m\u001b[1;33m=\u001b[0m\u001b[0mconverters\u001b[0m\u001b[1;33m,\u001b[0m\u001b[1;33m\u001b[0m\u001b[0m\n\u001b[1;32m    199\u001b[0m         \u001b[0mtrue_values\u001b[0m\u001b[1;33m=\u001b[0m\u001b[0mtrue_values\u001b[0m\u001b[1;33m,\u001b[0m \u001b[0mfalse_values\u001b[0m\u001b[1;33m=\u001b[0m\u001b[0mfalse_values\u001b[0m\u001b[1;33m,\u001b[0m \u001b[0msqueeze\u001b[0m\u001b[1;33m=\u001b[0m\u001b[0msqueeze\u001b[0m\u001b[1;33m,\u001b[0m\u001b[1;33m\u001b[0m\u001b[0m\n\u001b[0;32m--> 200\u001b[0;31m         **kwds)\n\u001b[0m\u001b[1;32m    201\u001b[0m \u001b[1;33m\u001b[0m\u001b[0m\n\u001b[1;32m    202\u001b[0m \u001b[1;33m\u001b[0m\u001b[0m\n",
      "\u001b[0;32mC:\\ProgramData\\Anaconda3\\lib\\site-packages\\pandas\\io\\excel.py\u001b[0m in \u001b[0;36m_parse_excel\u001b[0;34m(self, sheetname, header, skiprows, names, skip_footer, index_col, has_index_names, parse_cols, parse_dates, date_parser, na_values, thousands, convert_float, true_values, false_values, verbose, squeeze, **kwds)\u001b[0m\n\u001b[1;32m    337\u001b[0m                                       \"is not implemented\")\n\u001b[1;32m    338\u001b[0m         \u001b[1;32mif\u001b[0m \u001b[0mparse_dates\u001b[0m\u001b[1;33m:\u001b[0m\u001b[1;33m\u001b[0m\u001b[0m\n\u001b[0;32m--> 339\u001b[0;31m             raise NotImplementedError(\"parse_dates keyword of read_excel \"\n\u001b[0m\u001b[1;32m    340\u001b[0m                                       \"is not implemented\")\n\u001b[1;32m    341\u001b[0m \u001b[1;33m\u001b[0m\u001b[0m\n",
      "\u001b[0;31mNotImplementedError\u001b[0m: parse_dates keyword of read_excel is not implemented"
     ]
    }
   ],
   "source": [
    "import pandas as pd\n",
    "import numpy as np\n",
    "from mpl_toolkits.mplot3d import Axes3D\n",
    "from matplotlib.collections import PolyCollection\n",
    "from matplotlib.colors import colorConverter\n",
    "import matplotlib.pyplot as plt\n",
    "\n",
    "# Importamos los archivos a la memoria de la computadora\n",
    "d_Carania = pd.read_excel('1_CARANIA.xlsx', 'Precipitaciones', index_col=0, parse_dates=True)\n",
    "d_Huangascar = pd.read_excel('2_HUANGASCAR.xlsx', 'Precipitaciones', index_col=0, parse_dates=True)\n",
    "d_Pacaran = pd.read_excel('3_PACARAN.xlsx', 'Precipitaciones', index_col=0, parse_dates=True)\n",
    "d_Tanta = pd.read_excel('4_TANTA.xlsx', 'Precipitaciones', index_col=0, parse_dates=True)\n",
    "d_Vilca = pd.read_excel('5_VILCA.xlsx', 'Precipitaciones', index_col=0, parse_dates=True)\n",
    "d_Yauyos = pd.read_excel('6_YAUYOS.xlsx', 'Precipitaciones', index_col=0, parse_dates=True)\n",
    "d_Huantan = pd.read_excel('7_HUANTAN.xlsx', 'Precipitaciones', index_col=0, parse_dates=True)\n",
    "d_Tomas = pd.read_excel('8_TOMAS.xlsx', 'Precipitaciones', index_col=0, parse_dates=True)\n",
    "d_Yauricocha = pd.read_excel('9_YAURICOCHA.xlsx', 'Precipitaciones', index_col=0, parse_dates=True)\n",
    "\n",
    "# Agrupamos los datos como promedio de la precipitación diaria por semanas\n",
    "a_Carania = d_Carania.groupby(lambda y: y.month)\n",
    "b_Huangascar = d_Huangascar.groupby(lambda y: y.month)\n",
    "c_Pacaran = d_Pacaran.groupby(lambda y: y.month)\n",
    "d_Tanta = d_Tanta.groupby(lambda y: y.month)\n",
    "e_Vilca = d_Vilca.groupby(lambda y: y.month)\n",
    "f_Yauyos = d_Yauyos.groupby(lambda y: y.month)\n",
    "g_Huantan = d_Huantan.groupby(lambda y: y.month)\n",
    "h_Tomas = d_Tomas.groupby(lambda y: y.month)\n",
    "i_Yauricocha = d_Yauricocha.groupby(lambda y: y.month)\n",
    "\n",
    "# Cambiamos el formato de Pandas a Numpy\n",
    "a = a_Carania.mean().values\n",
    "b = b_Huangascar.mean().values\n",
    "c = c_Pacaran.mean().values\n",
    "d = d_Tanta.mean().values\n",
    "e = e_Vilca.mean().values\n",
    "f = f_Yauyos.mean().values\n",
    "g = g_Huantan.mean().values\n",
    "h = h_Tomas.mean().values\n",
    "i = i_Yauricocha.mean().values\n",
    "\n",
    "# Arreglamos los datos en un formato compatible con la librería Plot3D de Matplotlib\n",
    "a.reshape(12)\n",
    "b.reshape(12)\n",
    "c.reshape(12)\n",
    "d.reshape(12)\n",
    "e.reshape(12)\n",
    "f.reshape(12)\n",
    "g.reshape(12)\n",
    "h.reshape(12)\n",
    "i.reshape(12)\n",
    "\n",
    "#Generamos el gráfico en 3D\n",
    "fig = plt.figure()\n",
    "ax = fig.gca(projection='3d')\n",
    "\n",
    "xs = np.arange(12)\n",
    "ax.bar(xs, a, zs=3875.0, zdir='y', linewidth=0.1, color='#6c8aa9', alpha=1)\n",
    "ax.bar(xs, b, zs=2533.0, zdir='y', linewidth=0.1,color='#5cacbe', alpha=1)\n",
    "ax.bar(xs, c, zs=700.0, zdir='y', linewidth=0.1,color='#5cacbe', alpha=1)\n",
    "ax.bar(xs, d, zs=4323.0, zdir='y', linewidth=0.1,color='#3bd5d7', alpha=1)\n",
    "ax.bar(xs, e, zs=3864.0, zdir='y', linewidth=0.1,color='#5cacbe', alpha=1)\n",
    "ax.bar(xs, f, zs=2327.0, zdir='y', linewidth=0.1,color='#2272dd', alpha=1)\n",
    "ax.bar(xs, g, zs=3272.0, zdir='y', linewidth=0.1,color='#5b86c0', alpha=1)\n",
    "ax.bar(xs, h, zs=3542.0, zdir='y', linewidth=0.1,color='#5b86c0', alpha=1)\n",
    "ax.bar(xs, i, zs=4675.0, zdir='y', linewidth=0.1,color='#5b86c0', alpha=1)\n",
    "\n",
    "ax.legend()\n",
    "ax.set_xlim([0, 14])\n",
    "ax.set_ylim([700, 4700])\n",
    "\n",
    "ax.set_xlabel('Numero de Meses')\n",
    "ax.set_ylabel('Elevacion')\n",
    "ax.set_zlabel('Precipitacion Mensual Promedio')\n",
    "\n",
    "plt.show()"
   ]
  },
  {
   "cell_type": "code",
   "execution_count": null,
   "metadata": {
    "collapsed": true
   },
   "outputs": [],
   "source": []
  }
 ],
 "metadata": {
  "kernelspec": {
   "display_name": "Python 3",
   "language": "python",
   "name": "python3"
  },
  "language_info": {
   "codemirror_mode": {
    "name": "ipython",
    "version": 3
   },
   "file_extension": ".py",
   "mimetype": "text/x-python",
   "name": "python",
   "nbconvert_exporter": "python",
   "pygments_lexer": "ipython3",
   "version": "3.6.0"
  }
 },
 "nbformat": 4,
 "nbformat_minor": 2
}
