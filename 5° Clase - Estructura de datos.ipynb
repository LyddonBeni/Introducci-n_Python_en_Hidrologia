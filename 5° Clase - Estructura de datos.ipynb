{
 "cells": [
  {
   "cell_type": "markdown",
   "metadata": {},
   "source": [
    "# Estructura de Datos"
   ]
  },
  {
   "cell_type": "markdown",
   "metadata": {},
   "source": [
    "## Estructuras Inmutables"
   ]
  },
  {
   "cell_type": "markdown",
   "metadata": {},
   "source": [
    "### Tuplas"
   ]
  },
  {
   "cell_type": "markdown",
   "metadata": {},
   "source": [
    "Las tuplas son similares a las listas, pero se definen entre paréntesis en lugar de corchetes.\n",
    "\n",
    "* Son inmutables.\n",
    "* No tienen métodos para agregar y eliminar elementos.\n",
    "* A diferencia de las cadenas pueden contener cualquier tipo de objeto\n",
    "* pueden utilizarse para devoler varios valores en una funcion"
   ]
  },
  {
   "cell_type": "code",
   "execution_count": 1,
   "metadata": {},
   "outputs": [],
   "source": [
    "T  =  ( 1 , 3 ,3 ,'a', ) "
   ]
  },
  {
   "cell_type": "markdown",
   "metadata": {},
   "source": [
    "* Solo tienen los metodos `count` e `index`."
   ]
  },
  {
   "cell_type": "code",
   "execution_count": 2,
   "metadata": {},
   "outputs": [
    {
     "name": "stdout",
     "output_type": "stream",
     "text": [
      "Posicion:  0\n",
      "Veces repetido:  2\n",
      "Valor:  a\n"
     ]
    }
   ],
   "source": [
    "print ( \"Posicion: \", T.index(1)) # devuelve la posicion del elemento\n",
    "print ( \"Veces repetido: \", T.count(3)) # devuleva la cantidad de veces que repite el elemento\n",
    "print ( \"Valor: \", T [ 3 ]) # imprime le valor en la poscicion 0"
   ]
  },
  {
   "cell_type": "markdown",
   "metadata": {},
   "source": [
    "* Se puede desempaquetar la tuplas asignando cada elemento a una variable."
   ]
  },
  {
   "cell_type": "code",
   "execution_count": 3,
   "metadata": {},
   "outputs": [
    {
     "name": "stdout",
     "output_type": "stream",
     "text": [
      "1\n",
      "3\n",
      "3\n",
      "a\n"
     ]
    }
   ],
   "source": [
    "w,x,y,z=T\n",
    "print(w)\n",
    "print(x)\n",
    "print(y)\n",
    "print(z)"
   ]
  },
  {
   "cell_type": "markdown",
   "metadata": {},
   "source": [
    "### Rangos"
   ]
  },
  {
   "cell_type": "markdown",
   "metadata": {},
   "source": [
    "* Presenta una secuencia de enteros\n",
    "* `Range` `(Comienzo,fin,pasos)`\n",
    "* Los rangos son inmutables al igual que las cadenas y tuplas."
   ]
  },
  {
   "cell_type": "code",
   "execution_count": 4,
   "metadata": {},
   "outputs": [
    {
     "name": "stdout",
     "output_type": "stream",
     "text": [
      "range(1, 10, 2)\n",
      "1\n",
      "3\n",
      "5\n",
      "7\n",
      "9\n"
     ]
    }
   ],
   "source": [
    "rango = range (1,10,2)\n",
    "rango_2 = range (1,11,2)\n",
    "print(rango)\n",
    "for i in rango:\n",
    "    print(i)"
   ]
  },
  {
   "cell_type": "markdown",
   "metadata": {},
   "source": [
    "* igualdad de objetos con operador `==`\n"
   ]
  },
  {
   "cell_type": "code",
   "execution_count": 5,
   "metadata": {},
   "outputs": [
    {
     "name": "stdout",
     "output_type": "stream",
     "text": [
      "True\n"
     ]
    }
   ],
   "source": [
    "print (rango == rango_2)"
   ]
  },
  {
   "cell_type": "markdown",
   "metadata": {},
   "source": [
    "* igualdad de valores `is`"
   ]
  },
  {
   "cell_type": "code",
   "execution_count": 6,
   "metadata": {},
   "outputs": [
    {
     "name": "stdout",
     "output_type": "stream",
     "text": [
      "False\n"
     ]
    }
   ],
   "source": [
    "print (rango is rango_2)"
   ]
  },
  {
   "cell_type": "markdown",
   "metadata": {},
   "source": [
    "## Estructuras Mutables"
   ]
  },
  {
   "cell_type": "markdown",
   "metadata": {},
   "source": [
    "### Listas"
   ]
  },
  {
   "cell_type": "markdown",
   "metadata": {},
   "source": [
    "Son secuencias de objetos \n",
    "* Son colecciones de datos ordenadas y mutables \n",
    "* Son mutables\n",
    "* Se definen entre `[]`."
   ]
  },
  {
   "cell_type": "code",
   "execution_count": 7,
   "metadata": {},
   "outputs": [],
   "source": [
    "Litas_Elementos  =  [ 1 ,  'a' ,  [ 1 , 2 , 3 ]]\n",
    "Lista_Corta = [x**3 for x in range(0,4)]"
   ]
  },
  {
   "cell_type": "markdown",
   "metadata": {},
   "source": [
    "#### Metodos en Listas"
   ]
  },
  {
   "cell_type": "markdown",
   "metadata": {},
   "source": [
    "* Algunos metodos para las Listas"
   ]
  },
  {
   "cell_type": "code",
   "execution_count": 8,
   "metadata": {},
   "outputs": [
    {
     "name": "stdout",
     "output_type": "stream",
     "text": [
      "1\n",
      "[1, 2, 3]\n",
      "3\n"
     ]
    }
   ],
   "source": [
    "print ( Litas_Elementos [ 0 ]) \n",
    "print ( Litas_Elementos [ 2 ]) \n",
    "print ( Litas_Elementos [ 2 ] [ 2 ])"
   ]
  },
  {
   "cell_type": "markdown",
   "metadata": {},
   "source": [
    "* Otros metodos de indexacion para Listas"
   ]
  },
  {
   "cell_type": "code",
   "execution_count": 9,
   "metadata": {},
   "outputs": [
    {
     "name": "stdout",
     "output_type": "stream",
     "text": [
      "[3, 5]\n",
      "[2, 4, 3]\n",
      "[5, 10, 6, 1, 0]\n",
      "[2, 3, 10, 1]\n",
      "[2, 3, 10, 1]\n"
     ]
    }
   ],
   "source": [
    "L  =  [ 2 , 4 , 3 , 5 , 10 , 6 , 1 , 0 ] \n",
    "print ( L [2:4])  # Devuelve el intervalo de lalista\n",
    "print ( L [: 3 ]) \n",
    "print ( L [ 3 :]) \n",
    "print ( L [ 0 : - 1 : 2 ]) \n",
    "print ( L [:: 2 ])"
   ]
  },
  {
   "cell_type": "markdown",
   "metadata": {},
   "source": [
    "* Algunos métodos útiles son:"
   ]
  },
  {
   "cell_type": "code",
   "execution_count": 10,
   "metadata": {},
   "outputs": [
    {
     "name": "stdout",
     "output_type": "stream",
     "text": [
      "Longitud: 3\n",
      "Agregando elemento: [1, [1, 2, 3], 200]\n",
      "Concatenar: [1, [1, 2, 3], 200, 25, 35, 45]\n",
      "Clasificacion: [0, 1, 2, 3, 4, 5, 6, 10]\n"
     ]
    }
   ],
   "source": [
    "print('Longitud:', len(Litas_Elementos)) # Longitud de la lista\n",
    "Litas_Elementos.append(200) # Agrega elementos a la lista\n",
    "Litas_Elementos.remove(\"a\") # Remueve el elemento seleccionado\n",
    "print('Agregando elemento:', Litas_Elementos) # imprime lista con elementos agregados y eliminados\n",
    "print('Concatenar:', Litas_Elementos + [25,35,45]) # Une elementos a la lista\n",
    "L.sort() # ordena los elementos de la lista\n",
    "print('Clasificacion:', L) # imprime lista ordenada"
   ]
  },
  {
   "cell_type": "markdown",
   "metadata": {},
   "source": [
    "#### Operación entre listas"
   ]
  },
  {
   "cell_type": "code",
   "execution_count": 11,
   "metadata": {},
   "outputs": [
    {
     "name": "stdout",
     "output_type": "stream",
     "text": [
      "[1, [1, 2, 3], 200, 0, 1, 2, 3, 4, 5, 6, 10]\n"
     ]
    }
   ],
   "source": [
    "Nueva_Lista = Litas_Elementos + L;\n",
    "print(Nueva_Lista)"
   ]
  },
  {
   "cell_type": "markdown",
   "metadata": {},
   "source": [
    "#### Clonacion de Listas"
   ]
  },
  {
   "cell_type": "markdown",
   "metadata": {},
   "source": [
    "* Casi siempre es mejor clonar una lista que modificarla.\n",
    "* para clonar una lista usamos: `Slices` o la funcion `list` "
   ]
  },
  {
   "cell_type": "code",
   "execution_count": 12,
   "metadata": {},
   "outputs": [],
   "source": [
    "lista_1 = [2,5,7]\n",
    "lista_2 = lista_1 # copia la lista_1\n",
    "lista_3 = list(lista_1) # clona la lista_1"
   ]
  },
  {
   "cell_type": "code",
   "execution_count": 13,
   "metadata": {},
   "outputs": [
    {
     "name": "stdout",
     "output_type": "stream",
     "text": [
      "2166440915336\n",
      "2166440915336\n",
      "2166440903368\n"
     ]
    }
   ],
   "source": [
    "print(id(lista_1))\n",
    "print(id(lista_2))\n",
    "print(id(lista_3))"
   ]
  },
  {
   "cell_type": "markdown",
   "metadata": {},
   "source": [
    "Se puede obserar que la lista_1 y lista_3 tienen los mismos valores pero son diferentes objetos"
   ]
  },
  {
   "cell_type": "code",
   "execution_count": 14,
   "metadata": {},
   "outputs": [
    {
     "data": {
      "text/plain": [
       "False"
      ]
     },
     "execution_count": 14,
     "metadata": {},
     "output_type": "execute_result"
    }
   ],
   "source": [
    "id(lista_1) == id(lista_3)"
   ]
  },
  {
   "cell_type": "markdown",
   "metadata": {},
   "source": [
    "* clonar lista usando `slices`"
   ]
  },
  {
   "cell_type": "code",
   "execution_count": 15,
   "metadata": {},
   "outputs": [],
   "source": [
    "lista_4 = lista_1[::] "
   ]
  },
  {
   "cell_type": "markdown",
   "metadata": {},
   "source": [
    "Si imprimimos las listas podemos ver que tiene los mimos valores:"
   ]
  },
  {
   "cell_type": "code",
   "execution_count": 16,
   "metadata": {},
   "outputs": [
    {
     "name": "stdout",
     "output_type": "stream",
     "text": [
      "[2, 5, 7]\n",
      "[2, 5, 7]\n",
      "[2, 5, 7]\n",
      "[2, 5, 7]\n"
     ]
    }
   ],
   "source": [
    "print(lista_1)\n",
    "print(lista_2)\n",
    "print(lista_3)\n",
    "print(lista_4)"
   ]
  },
  {
   "cell_type": "markdown",
   "metadata": {},
   "source": [
    "Si comparamos los `id` de cada objeto podemos que las listas clonadas son distintas"
   ]
  },
  {
   "cell_type": "code",
   "execution_count": 17,
   "metadata": {},
   "outputs": [
    {
     "name": "stdout",
     "output_type": "stream",
     "text": [
      "True\n",
      "False\n",
      "False\n"
     ]
    }
   ],
   "source": [
    "print(id(lista_1) == id(lista_2))\n",
    "print(id(lista_1) == id(lista_3))\n",
    "print(id(lista_1) == id(lista_4))"
   ]
  },
  {
   "cell_type": "markdown",
   "metadata": {},
   "source": [
    "#### Lista comprimidas"
   ]
  },
  {
   "cell_type": "markdown",
   "metadata": {},
   "source": [
    "* Forma concisa de aplicar operaciones a valores de una secuencia.\n",
    "* Tambien se puede aplicar operaciones para filtrar."
   ]
  },
  {
   "cell_type": "code",
   "execution_count": 18,
   "metadata": {},
   "outputs": [
    {
     "name": "stdout",
     "output_type": "stream",
     "text": [
      "[0, 1, 2, 3, 4, 5, 6, 7, 8, 9]\n",
      "[0, 1, 4, 9, 16, 25, 36, 49, 64, 81]\n",
      "[0, 2, 4, 6, 8]\n",
      "[1, 3, 5, 7, 9]\n"
     ]
    }
   ],
   "source": [
    "lista_numeros = [y for y in range(0,10)]\n",
    "lista_letras = [x**2 for x in range(10)]\n",
    "lista_pares = [i for i in range(0,10) if i % 2 ==0]\n",
    "lista_impares = [ i for i in range (1,10,2) ]\n",
    "print (lista_numeros)\n",
    "print (lista_letras)\n",
    "print (lista_pares)\n",
    "print (lista_impares)"
   ]
  },
  {
   "cell_type": "markdown",
   "metadata": {},
   "source": [
    "### Diccionarios"
   ]
  },
  {
   "cell_type": "code",
   "execution_count": null,
   "metadata": {},
   "outputs": [],
   "source": []
  },
  {
   "cell_type": "markdown",
   "metadata": {},
   "source": [
    "Estas son la base de una parte importante de la implementación interna de Python.\n",
    "* Se crean usando `{}`\n",
    "* No tienen orden interno\n",
    "* Son mutables\n",
    "* Pueden iterarse"
   ]
  },
  {
   "cell_type": "code",
   "execution_count": 19,
   "metadata": {
    "scrolled": true
   },
   "outputs": [
    {
     "data": {
      "text/plain": [
       "10"
      ]
     },
     "execution_count": 19,
     "metadata": {},
     "output_type": "execute_result"
    }
   ],
   "source": [
    "diccionario = {\n",
    "    'enero' : 10,\n",
    "    'febrero' : 20,\n",
    "}\n",
    "diccionario['enero']"
   ]
  },
  {
   "cell_type": "markdown",
   "metadata": {},
   "source": [
    "#### Diccionarios comprimidos"
   ]
  },
  {
   "cell_type": "code",
   "execution_count": null,
   "metadata": {},
   "outputs": [],
   "source": []
  },
  {
   "cell_type": "code",
   "execution_count": null,
   "metadata": {},
   "outputs": [],
   "source": []
  }
 ],
 "metadata": {
  "kernelspec": {
   "display_name": "Python 3",
   "language": "python",
   "name": "python3"
  },
  "language_info": {
   "codemirror_mode": {
    "name": "ipython",
    "version": 3
   },
   "file_extension": ".py",
   "mimetype": "text/x-python",
   "name": "python",
   "nbconvert_exporter": "python",
   "pygments_lexer": "ipython3",
   "version": "3.7.6"
  }
 },
 "nbformat": 4,
 "nbformat_minor": 4
}
