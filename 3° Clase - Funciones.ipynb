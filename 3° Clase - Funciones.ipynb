{
 "cells": [
  {
   "cell_type": "markdown",
   "metadata": {},
   "source": [
    "# Funciones"
   ]
  },
  {
   "cell_type": "markdown",
   "metadata": {},
   "source": [
    "### Funcion Potencia"
   ]
  },
  {
   "cell_type": "code",
   "execution_count": 1,
   "metadata": {},
   "outputs": [
    {
     "name": "stdout",
     "output_type": "stream",
     "text": [
      "56.25\n"
     ]
    }
   ],
   "source": [
    "def cuadrado(x):\n",
    "    \"\"\" Eleva al cuadrado un numero\n",
    "    \n",
    "    x float - cualquier flotante\n",
    "    retorna el cuadrado de x\n",
    "    \"\"\"\n",
    "    print(x**2)\n",
    "cuadrado (7.5)"
   ]
  },
  {
   "cell_type": "code",
   "execution_count": 2,
   "metadata": {},
   "outputs": [
    {
     "name": "stdout",
     "output_type": "stream",
     "text": [
      "Help on function cuadrado in module __main__:\n",
      "\n",
      "cuadrado(x)\n",
      "    Eleva al cuadrado un numero\n",
      "    \n",
      "    x float - cualquier flotante\n",
      "    retorna el cuadrado de x\n",
      "\n"
     ]
    }
   ],
   "source": [
    "help(cuadrado)"
   ]
  },
  {
   "cell_type": "markdown",
   "metadata": {},
   "source": [
    "### Funcion suma n primeros numeros al cuadrado"
   ]
  },
  {
   "cell_type": "code",
   "execution_count": 3,
   "metadata": {},
   "outputs": [
    {
     "data": {
      "text/plain": [
       "14"
      ]
     },
     "execution_count": 3,
     "metadata": {},
     "output_type": "execute_result"
    }
   ],
   "source": [
    "def suma2(n):\n",
    "    s=0\n",
    "    for a in range(0,n+1):\n",
    "        s=s+a**2\n",
    "    return s  \n",
    "\n",
    "suma2(3)"
   ]
  },
  {
   "cell_type": "markdown",
   "metadata": {},
   "source": [
    "### Funcion n primeros numeros"
   ]
  },
  {
   "cell_type": "code",
   "execution_count": 4,
   "metadata": {},
   "outputs": [
    {
     "name": "stdout",
     "output_type": "stream",
     "text": [
      "55\n",
      "55\n",
      "True\n"
     ]
    }
   ],
   "source": [
    "# define suma de los n primeros numeros con bucle While\n",
    "def sumaWhile(n):\n",
    "    a = 0\n",
    "    b = 0\n",
    "    while b < n + 1:\n",
    "        a = a + b\n",
    "        b = b + 1\n",
    "    return a\n",
    "\n",
    "# define suma de los n primeros numeros con bucle FOR\n",
    "def sumaFor(n):\n",
    "    s = 0\n",
    "    for a in range( 0 , n + 1):\n",
    "        s = s + a\n",
    "    return s\n",
    "\n",
    "print (sumaWhile(10))\n",
    "print (sumaFor(10))\n",
    "print (sumaFor(10)==sumaWhile(10))"
   ]
  },
  {
   "cell_type": "markdown",
   "metadata": {},
   "source": [
    "### Funcion Enumeracion Exhautiva"
   ]
  },
  {
   "cell_type": "code",
   "execution_count": 5,
   "metadata": {},
   "outputs": [],
   "source": [
    "def enumeracion_exhaustiva(objetivo):\n",
    "    respuesta = 0\n",
    "\n",
    "    while respuesta**2 < objetivo:\n",
    "        respuesta += 1\n",
    "\n",
    "    if respuesta**2 == objetivo:\n",
    "        print(f'La raiz de {objetivo} es {respuesta}')\n",
    "    else:\n",
    "        print(f'{objetivo} no tiene raiz cuadrada exacta')"
   ]
  },
  {
   "cell_type": "markdown",
   "metadata": {},
   "source": [
    "### Funcion Aproximacion de Soluciones"
   ]
  },
  {
   "cell_type": "code",
   "execution_count": 6,
   "metadata": {},
   "outputs": [],
   "source": [
    "def aproximacion(objetivo, epsilon):\n",
    "    paso = epsilon**2\n",
    "    respuesta = 0.0\n",
    "    iteraciones = 0\n",
    "\n",
    "    while abs(respuesta**2 - objetivo) >= epsilon and respuesta <= objetivo:\n",
    "        respuesta += paso\n",
    "        iteraciones += 1\n",
    "\n",
    "    if abs(respuesta**2 - objetivo) >= epsilon:\n",
    "        print(f'No se encontro raiz cuadrada {objetivo}')\n",
    "    else:\n",
    "        print(f'La raiz cuadrada de {objetivo} es {respuesta}')"
   ]
  },
  {
   "cell_type": "markdown",
   "metadata": {},
   "source": [
    "### Funcion Busqueda Binaria"
   ]
  },
  {
   "cell_type": "code",
   "execution_count": 7,
   "metadata": {},
   "outputs": [],
   "source": [
    "def busqueda_binaria(objetivo, epsilon):\n",
    "    bajo = 0.0\n",
    "    alto = max (1.0, objetivo)\n",
    "    respuesta = (alto + bajo) / 2\n",
    "\n",
    "    while abs(respuesta**2 - objetivo) >= epsilon:\n",
    "        if respuesta**2 < objetivo:\n",
    "            bajo = respuesta\n",
    "        else:\n",
    "            alto = respuesta\n",
    "       \n",
    "        respuesta = (alto + bajo) / 2   \n",
    "\n",
    "    print(f'La raiz cuadrada de {objetivo} es {respuesta}')"
   ]
  },
  {
   "cell_type": "code",
   "execution_count": 8,
   "metadata": {},
   "outputs": [
    {
     "name": "stdout",
     "output_type": "stream",
     "text": [
      "Elija el algoritmo de ordenamiento para buscar la raiz cuadrada de su numero \n",
      " 1. Enumeracion Exhaustiva \n",
      " 2. Aproximacion \n",
      " 3. Busqueda Binaria \n",
      "3\n",
      "3. Busqueda Binaria\n",
      "* Digite un numero: 5\n",
      "* Digite un epsilon: 0.0001\n",
      "La raiz cuadrada de 5 es 2.2360610961914062\n"
     ]
    }
   ],
   "source": [
    "opcion = int(input(f'Elija el algoritmo de ordenamiento para buscar la raiz cuadrada de su numero \\n 1. Enumeracion Exhaustiva \\n 2. Aproximacion \\n 3. Busqueda Binaria \\n'))\n",
    "\n",
    "if opcion == 1:\n",
    "    print('1. Enumeracion Exhaustiva')\n",
    "    numero = int(input('* Digite un numero: '))\n",
    "    enumeracion_exhaustiva(numero)\n",
    "elif opcion == 2:\n",
    "    print('2. Aproximacion')\n",
    "    numero = int(input('* Digite un numero: '))\n",
    "    parametro_epsilon = float(input('* Digite un epsilon: '))\n",
    "    aproximacion(numero,parametro_epsilon)\n",
    "elif opcion == 3:\n",
    "    print('3. Busqueda Binaria')\n",
    "    numero = int(input('* Digite un numero: '))\n",
    "    parametro_epsilon = float(input('* Digite un epsilon: '))\n",
    "    busqueda_binaria(numero,parametro_epsilon)\n",
    "else:\n",
    "    print('Opcion no valida')"
   ]
  },
  {
   "cell_type": "markdown",
   "metadata": {},
   "source": [
    "## Funcion con objetos"
   ]
  },
  {
   "cell_type": "markdown",
   "metadata": {},
   "source": [
    "Una de las características más poderosas de Python, <b>todo es un objeto</b><br>\n",
    "incluyendo las funciones.\n",
    "Las funciones en Python son “ciudadanos de primera clase”.\n",
    "\n",
    "En Python las funciones: <br>\n",
    "\n",
    "* Tienen un tipo\n",
    "* Se pueden pasar como argumentos de otras funciones\n",
    "* Se pueden utilizar en expresiones\n",
    "* Se pueden incluir en varias estructuras de datos (como listas, tuplas, diccionarios, etc.)"
   ]
  },
  {
   "cell_type": "code",
   "execution_count": 9,
   "metadata": {},
   "outputs": [
    {
     "name": "stdout",
     "output_type": "stream",
     "text": [
      "[2, 4, 6]\n",
      "[3, 4, 5]\n"
     ]
    }
   ],
   "source": [
    "def multiplicar_por_dos(n):\n",
    "    return n * 2\n",
    "\n",
    "def sumar_dos(n):\n",
    "    return n + 2\n",
    "\n",
    "def aplicar_operacion(f, numeros):\n",
    "    resultados = []\n",
    "    for numero in numeros:\n",
    "        resultado = f(numero)\n",
    "        resultados.append(resultado)\n",
    "    return resultados\n",
    "\n",
    "nums = [1, 2, 3]\n",
    "print (aplicar_operacion(multiplicar_por_dos, nums))\n",
    "print (aplicar_operacion(sumar_dos, nums))"
   ]
  },
  {
   "cell_type": "markdown",
   "metadata": {},
   "source": [
    "## Funciones en expresiones"
   ]
  },
  {
   "cell_type": "markdown",
   "metadata": {},
   "source": [
    "Una forma de definir una función en una expresión es: <br>\n",
    "utilizando el keyword `lambda` lambda tiene la siguiente sintaxis: \n",
    "* `lambda` `<vars>`:`<expresion>`"
   ]
  },
  {
   "cell_type": "code",
   "execution_count": 10,
   "metadata": {},
   "outputs": [
    {
     "data": {
      "text/plain": [
       "11"
      ]
     },
     "execution_count": 10,
     "metadata": {},
     "output_type": "execute_result"
    }
   ],
   "source": [
    "sumar = lambda x, y: x + y\n",
    "\n",
    "sumar (5,6)"
   ]
  },
  {
   "cell_type": "markdown",
   "metadata": {},
   "source": [
    "## Funciones en estructuras de datos"
   ]
  },
  {
   "cell_type": "markdown",
   "metadata": {},
   "source": [
    "Las funciones también se pueden incluir en diversas estructuras que las permiten almacenar <br>\n",
    "* Una lista puede guardar diversas funciones a aplicar <br>\n",
    "* Un diccionario puede almacenarlos como valores."
   ]
  },
  {
   "cell_type": "code",
   "execution_count": 11,
   "metadata": {},
   "outputs": [
    {
     "data": {
      "text/plain": [
       "[8, 8.0]"
      ]
     },
     "execution_count": 11,
     "metadata": {},
     "output_type": "execute_result"
    }
   ],
   "source": [
    "def aplicar_operaciones(num):\n",
    "    operaciones = [abs, float]\n",
    "\n",
    "    resultado = []\n",
    "    for operacion in operaciones:\n",
    "        resultado.append(operacion(num))\n",
    "\n",
    "    return resultado\n",
    "aplicar_operaciones(8)"
   ]
  }
 ],
 "metadata": {
  "kernelspec": {
   "display_name": "Python 3",
   "language": "python",
   "name": "python3"
  },
  "language_info": {
   "codemirror_mode": {
    "name": "ipython",
    "version": 3
   },
   "file_extension": ".py",
   "mimetype": "text/x-python",
   "name": "python",
   "nbconvert_exporter": "python",
   "pygments_lexer": "ipython3",
   "version": "3.7.6"
  }
 },
 "nbformat": 4,
 "nbformat_minor": 2
}
